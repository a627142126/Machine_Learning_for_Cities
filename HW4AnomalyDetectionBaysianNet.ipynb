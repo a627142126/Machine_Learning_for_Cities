{
 "cells": [
  {
   "cell_type": "markdown",
   "metadata": {},
   "source": [
    "## MLC HW 4\n",
    "\n",
    "### Question 1 (40 points)\n",
    "\n",
    "In this question, you will model traffic counts in Pittsburgh using Gaussian process (GP) regression.  The included dataset, \"PittsburghTrafficCounts.csv\", represents the average daily traffic counts computed by traffic sensors at over 1,100 locations in Allegheny County, PA.  The data was collected from years 2012-2014 and compiled by Carnegie Mellon University’s Traffic21 Institute; we have the longitude, latitude, and average daily count for each sensor.  \n",
    "\n",
    "Given this dataset, your goal is to learn a model of traffic count as a function of spatial location.  To do so, fit a Gaussian Process regression model to the observed data.  While you can decide on the precise kernel specification, you should try to achieve a good model fit, as quantified by a log marginal likelihood value greater than (i.e., less negative than) -1400.  Here are some hints for getting a good model fit:\n",
    "\n",
    "* We recommend that you take the logarithm of the traffic counts, and then subtract the mean of this vector, before fitting the model.\n",
    "\n",
    "* Since the data is noisy, don't forget to include a noise term (WhiteKernel) in your model.\n",
    "\n",
    "* When fitting a GP with RBF kernel on multidimensional data, you can learn a separate length scale for each dimension, e.g., length_scale=(length_scale_x, length_scale_y). \n",
    "\n",
    "Your Python code should provide the following five outputs:\n",
    "\n",
    "1) The kernel after parameter optimization and fitting to the observed data. (10 pts)\n",
    "\n",
    "2) The log marginal likelihood of the training data. (5 pts)\n",
    "\n",
    "3) Show a 2-D plot of the model's predictions over a mesh grid of longitude/latitude (with color corresponding to the model's predictions) and overlay a 2-D scatter plot of sensor locations (with color corresponding to the observed values). (10 pts)\n",
    "\n",
    "4) What percentage of sensors have average traffic counts more than two standard deviations higher or lower than the model predicts given their spatial location? (5 pts)\n",
    "\n",
    "5) Show a 2-D scatter plot of the sensor locations, with three colors corresponding to observed values a) more than two standard deviations higher than predicted, b) more then two standard deviations lower than predicted, and c) within two standard deviations of the predicted values. (10 pts)\n"
   ]
  },
  {
   "cell_type": "code",
   "execution_count": 137,
   "metadata": {},
   "outputs": [],
   "source": [
    "from sklearn.model_selection import train_test_split\n",
    "from matplotlib import pyplot as plt\n",
    "from sklearn.gaussian_process import GaussianProcessRegressor\n",
    "from sklearn.gaussian_process.kernels import RBF, ConstantKernel,WhiteKernel\n",
    "from sklearn.gaussian_process import GaussianProcessClassifier\n",
    "from pgmpy.estimators import HillClimbSearch\n",
    "from pgmpy.estimators import BicScore\n",
    "from pgmpy.models import BayesianModel\n",
    "from pgmpy.estimators import MaximumLikelihoodEstimator\n",
    "from sklearn.cluster import KMeans\n",
    "from sklearn.mixture import GaussianMixture\n",
    "from sklearn.neighbors import LocalOutlierFactor"
   ]
  },
  {
   "cell_type": "code",
   "execution_count": 296,
   "metadata": {},
   "outputs": [
    {
     "data": {
      "text/html": [
       "<div>\n",
       "<style scoped>\n",
       "    .dataframe tbody tr th:only-of-type {\n",
       "        vertical-align: middle;\n",
       "    }\n",
       "\n",
       "    .dataframe tbody tr th {\n",
       "        vertical-align: top;\n",
       "    }\n",
       "\n",
       "    .dataframe thead th {\n",
       "        text-align: right;\n",
       "    }\n",
       "</style>\n",
       "<table border=\"1\" class=\"dataframe\">\n",
       "  <thead>\n",
       "    <tr style=\"text-align: right;\">\n",
       "      <th></th>\n",
       "      <th>Longitude</th>\n",
       "      <th>Latitude</th>\n",
       "      <th>AvgDailyTrafficCount</th>\n",
       "    </tr>\n",
       "  </thead>\n",
       "  <tbody>\n",
       "    <tr>\n",
       "      <th>0</th>\n",
       "      <td>-80.278366</td>\n",
       "      <td>40.468606</td>\n",
       "      <td>84.0</td>\n",
       "    </tr>\n",
       "    <tr>\n",
       "      <th>1</th>\n",
       "      <td>-80.162117</td>\n",
       "      <td>40.384598</td>\n",
       "      <td>95.0</td>\n",
       "    </tr>\n",
       "    <tr>\n",
       "      <th>2</th>\n",
       "      <td>-80.221205</td>\n",
       "      <td>40.366778</td>\n",
       "      <td>97.0</td>\n",
       "    </tr>\n",
       "    <tr>\n",
       "      <th>3</th>\n",
       "      <td>-80.142455</td>\n",
       "      <td>40.622084</td>\n",
       "      <td>111.0</td>\n",
       "    </tr>\n",
       "    <tr>\n",
       "      <th>4</th>\n",
       "      <td>-80.131975</td>\n",
       "      <td>40.544915</td>\n",
       "      <td>125.0</td>\n",
       "    </tr>\n",
       "  </tbody>\n",
       "</table>\n",
       "</div>"
      ],
      "text/plain": [
       "   Longitude   Latitude  AvgDailyTrafficCount\n",
       "0 -80.278366  40.468606                  84.0\n",
       "1 -80.162117  40.384598                  95.0\n",
       "2 -80.221205  40.366778                  97.0\n",
       "3 -80.142455  40.622084                 111.0\n",
       "4 -80.131975  40.544915                 125.0"
      ]
     },
     "execution_count": 296,
     "metadata": {},
     "output_type": "execute_result"
    }
   ],
   "source": [
    "import pandas as pd\n",
    "import numpy as np\n",
    "Data1=pd.read_csv(\"PittsburghTrafficCounts.csv\")\n",
    "Data1.head()"
   ]
  },
  {
   "cell_type": "markdown",
   "metadata": {},
   "source": [
    "### We recommend that you take the logarithm of the traffic counts, and then subtract the mean of this vector, before fitting the model."
   ]
  },
  {
   "cell_type": "code",
   "execution_count": 297,
   "metadata": {},
   "outputs": [
    {
     "data": {
      "text/html": [
       "<div>\n",
       "<style scoped>\n",
       "    .dataframe tbody tr th:only-of-type {\n",
       "        vertical-align: middle;\n",
       "    }\n",
       "\n",
       "    .dataframe tbody tr th {\n",
       "        vertical-align: top;\n",
       "    }\n",
       "\n",
       "    .dataframe thead th {\n",
       "        text-align: right;\n",
       "    }\n",
       "</style>\n",
       "<table border=\"1\" class=\"dataframe\">\n",
       "  <thead>\n",
       "    <tr style=\"text-align: right;\">\n",
       "      <th></th>\n",
       "      <th>Longitude</th>\n",
       "      <th>Latitude</th>\n",
       "      <th>AvgDailyTrafficCount</th>\n",
       "      <th>log_traffic_counts</th>\n",
       "      <th>new_traffic_counts</th>\n",
       "    </tr>\n",
       "  </thead>\n",
       "  <tbody>\n",
       "    <tr>\n",
       "      <th>0</th>\n",
       "      <td>-80.278366</td>\n",
       "      <td>40.468606</td>\n",
       "      <td>84.0</td>\n",
       "      <td>4.430817</td>\n",
       "      <td>-3.977526</td>\n",
       "    </tr>\n",
       "    <tr>\n",
       "      <th>1</th>\n",
       "      <td>-80.162117</td>\n",
       "      <td>40.384598</td>\n",
       "      <td>95.0</td>\n",
       "      <td>4.553877</td>\n",
       "      <td>-3.854466</td>\n",
       "    </tr>\n",
       "    <tr>\n",
       "      <th>2</th>\n",
       "      <td>-80.221205</td>\n",
       "      <td>40.366778</td>\n",
       "      <td>97.0</td>\n",
       "      <td>4.574711</td>\n",
       "      <td>-3.833632</td>\n",
       "    </tr>\n",
       "    <tr>\n",
       "      <th>3</th>\n",
       "      <td>-80.142455</td>\n",
       "      <td>40.622084</td>\n",
       "      <td>111.0</td>\n",
       "      <td>4.709530</td>\n",
       "      <td>-3.698812</td>\n",
       "    </tr>\n",
       "    <tr>\n",
       "      <th>4</th>\n",
       "      <td>-80.131975</td>\n",
       "      <td>40.544915</td>\n",
       "      <td>125.0</td>\n",
       "      <td>4.828314</td>\n",
       "      <td>-3.580029</td>\n",
       "    </tr>\n",
       "  </tbody>\n",
       "</table>\n",
       "</div>"
      ],
      "text/plain": [
       "   Longitude   Latitude  AvgDailyTrafficCount  log_traffic_counts  \\\n",
       "0 -80.278366  40.468606                  84.0            4.430817   \n",
       "1 -80.162117  40.384598                  95.0            4.553877   \n",
       "2 -80.221205  40.366778                  97.0            4.574711   \n",
       "3 -80.142455  40.622084                 111.0            4.709530   \n",
       "4 -80.131975  40.544915                 125.0            4.828314   \n",
       "\n",
       "   new_traffic_counts  \n",
       "0           -3.977526  \n",
       "1           -3.854466  \n",
       "2           -3.833632  \n",
       "3           -3.698812  \n",
       "4           -3.580029  "
      ]
     },
     "execution_count": 297,
     "metadata": {},
     "output_type": "execute_result"
    }
   ],
   "source": [
    "Data1['log_traffic_counts'] = np.log(Data1['AvgDailyTrafficCount'])\n",
    "Data1['new_traffic_counts'] = Data1['log_traffic_counts'] - Data1['log_traffic_counts'].mean()\n",
    "Data1.head()"
   ]
  },
  {
   "cell_type": "code",
   "execution_count": 4,
   "metadata": {},
   "outputs": [],
   "source": [
    "# your code here"
   ]
  },
  {
   "cell_type": "markdown",
   "metadata": {},
   "source": [
    "### The kernel after parameter optimization and fitting to the observed data. (10 pts)"
   ]
  },
  {
   "cell_type": "code",
   "execution_count": 5,
   "metadata": {},
   "outputs": [],
   "source": [
    "x_obs = Data1[['Longitude', 'Latitude']]\n",
    "y_obs = Data1['new_traffic_counts']"
   ]
  },
  {
   "cell_type": "code",
   "execution_count": 6,
   "metadata": {},
   "outputs": [],
   "source": [
    "#X_train, X_test, y_train, y_test = train_test_split(x_obs, y_obs, test_size=0.3, random_state=42)"
   ]
  },
  {
   "cell_type": "code",
   "execution_count": 7,
   "metadata": {},
   "outputs": [],
   "source": [
    "kernel = 1.* RBF(length_scale=1., length_scale_bounds=(1e-3, 1e3)) \\\n",
    "    + WhiteKernel(noise_level=1., noise_level_bounds=(1e-10, 1e10))\n",
    "\n",
    "gp = GaussianProcessRegressor(kernel=kernel,random_state=1)"
   ]
  },
  {
   "cell_type": "code",
   "execution_count": 8,
   "metadata": {},
   "outputs": [
    {
     "data": {
      "text/plain": [
       "GaussianProcessRegressor(alpha=1e-10, copy_X_train=True,\n",
       "             kernel=1**2 * RBF(length_scale=1) + WhiteKernel(noise_level=1),\n",
       "             n_restarts_optimizer=0, normalize_y=False,\n",
       "             optimizer='fmin_l_bfgs_b', random_state=1)"
      ]
     },
     "execution_count": 8,
     "metadata": {},
     "output_type": "execute_result"
    }
   ],
   "source": [
    "gp.fit(x_obs, y_obs)"
   ]
  },
  {
   "cell_type": "markdown",
   "metadata": {},
   "source": [
    "### 2) The log marginal likelihood of the training data. (5 pts)"
   ]
  },
  {
   "cell_type": "code",
   "execution_count": 10,
   "metadata": {},
   "outputs": [
    {
     "name": "stdout",
     "output_type": "stream",
     "text": [
      "-1365.9466919139309\n"
     ]
    }
   ],
   "source": [
    "print(gp.log_marginal_likelihood_value_)"
   ]
  },
  {
   "cell_type": "markdown",
   "metadata": {},
   "source": [
    "### 3) Show a 2-D plot of the model's predictions over a mesh grid of longitude/latitude (with color corresponding to the model's predictions) and overlay a 2-D scatter plot of sensor locations (with color corresponding to the observed values). (10 pts)"
   ]
  },
  {
   "cell_type": "code",
   "execution_count": 230,
   "metadata": {},
   "outputs": [
    {
     "data": {
      "image/png": "[encoded data removed]",
      "text/plain": [
       "<Figure size 432x432 with 1 Axes>"
      ]
     },
     "metadata": {},
     "output_type": "display_data"
    }
   ],
   "source": [
    "# create a mesh to plot in\n",
    "x_min, x_max = Data1.Longitude.min() - 0.1, Data1.Longitude.max() + 0.1 \n",
    "y_min, y_max = Data1.Latitude.min() - 0.1, Data1.Latitude.max() + 0.1 \n",
    "h = .02 # step size in the mesh\n",
    "\n",
    "xx, yy = np.meshgrid(np.arange(x_min, x_max, h),\n",
    "                     np.arange(y_min, y_max, h))\n",
    "plt.figure(figsize=(6, 6))\n",
    "    # Plot the predicted probabilities. For that, we will assign a color to\n",
    "    # each point in the mesh [x_min, m_max]x[y_min, y_max].\n",
    "plt.subplot(1, 1, 1)\n",
    "Z = gp.predict(np.c_[xx.ravel(), yy.ravel()])\n",
    "# Put the result into a color plot\n",
    "Z = Z.reshape((xx.shape[0], xx.shape[1]))\n",
    "plt.imshow(Z, extent=(x_min, x_max, y_min, y_max), origin=\"lower\")\n",
    "\n",
    "# Plot also the training points\n",
    "plt.scatter(Data1.Longitude, Data1.Latitude, c=Data1.new_traffic_counts)\n",
    "plt.xlabel('Longitude')\n",
    "plt.ylabel('Latitude')\n",
    "plt.xlim(xx.min(), xx.max())\n",
    "plt.ylim(yy.min(), yy.max())\n",
    "plt.xticks(())\n",
    "plt.yticks(())\n",
    "plt.title(\"%s, LML: %.3f\" %\n",
    "          (\"RBF\", gp.log_marginal_likelihood_value_))\n",
    "plt.tight_layout()\n",
    "plt.show()"
   ]
  },
  {
   "cell_type": "markdown",
   "metadata": {},
   "source": [
    "### 4) What percentage of sensors have average traffic counts more than two standard deviations higher or lower than the model predicts given their spatial location? (5 pts)"
   ]
  },
  {
   "cell_type": "code",
   "execution_count": 298,
   "metadata": {},
   "outputs": [],
   "source": [
    "Data1['pred_traffic'] = gp.predict(Data1[['Longitude', 'Latitude']])"
   ]
  },
  {
   "cell_type": "code",
   "execution_count": 299,
   "metadata": {},
   "outputs": [
    {
     "data": {
      "text/html": [
       "<div>\n",
       "<style scoped>\n",
       "    .dataframe tbody tr th:only-of-type {\n",
       "        vertical-align: middle;\n",
       "    }\n",
       "\n",
       "    .dataframe tbody tr th {\n",
       "        vertical-align: top;\n",
       "    }\n",
       "\n",
       "    .dataframe thead th {\n",
       "        text-align: right;\n",
       "    }\n",
       "</style>\n",
       "<table border=\"1\" class=\"dataframe\">\n",
       "  <thead>\n",
       "    <tr style=\"text-align: right;\">\n",
       "      <th></th>\n",
       "      <th>Longitude</th>\n",
       "      <th>Latitude</th>\n",
       "      <th>AvgDailyTrafficCount</th>\n",
       "      <th>log_traffic_counts</th>\n",
       "      <th>new_traffic_counts</th>\n",
       "      <th>pred_traffic</th>\n",
       "    </tr>\n",
       "  </thead>\n",
       "  <tbody>\n",
       "    <tr>\n",
       "      <th>0</th>\n",
       "      <td>-80.278366</td>\n",
       "      <td>40.468606</td>\n",
       "      <td>84.0</td>\n",
       "      <td>4.430817</td>\n",
       "      <td>-3.977526</td>\n",
       "      <td>-1.594040</td>\n",
       "    </tr>\n",
       "    <tr>\n",
       "      <th>1</th>\n",
       "      <td>-80.162117</td>\n",
       "      <td>40.384598</td>\n",
       "      <td>95.0</td>\n",
       "      <td>4.553877</td>\n",
       "      <td>-3.854466</td>\n",
       "      <td>-0.800837</td>\n",
       "    </tr>\n",
       "    <tr>\n",
       "      <th>2</th>\n",
       "      <td>-80.221205</td>\n",
       "      <td>40.366778</td>\n",
       "      <td>97.0</td>\n",
       "      <td>4.574711</td>\n",
       "      <td>-3.833632</td>\n",
       "      <td>-1.246781</td>\n",
       "    </tr>\n",
       "    <tr>\n",
       "      <th>3</th>\n",
       "      <td>-80.142455</td>\n",
       "      <td>40.622084</td>\n",
       "      <td>111.0</td>\n",
       "      <td>4.709530</td>\n",
       "      <td>-3.698812</td>\n",
       "      <td>-1.251590</td>\n",
       "    </tr>\n",
       "    <tr>\n",
       "      <th>4</th>\n",
       "      <td>-80.131975</td>\n",
       "      <td>40.544915</td>\n",
       "      <td>125.0</td>\n",
       "      <td>4.828314</td>\n",
       "      <td>-3.580029</td>\n",
       "      <td>-1.326580</td>\n",
       "    </tr>\n",
       "  </tbody>\n",
       "</table>\n",
       "</div>"
      ],
      "text/plain": [
       "   Longitude   Latitude  AvgDailyTrafficCount  log_traffic_counts  \\\n",
       "0 -80.278366  40.468606                  84.0            4.430817   \n",
       "1 -80.162117  40.384598                  95.0            4.553877   \n",
       "2 -80.221205  40.366778                  97.0            4.574711   \n",
       "3 -80.142455  40.622084                 111.0            4.709530   \n",
       "4 -80.131975  40.544915                 125.0            4.828314   \n",
       "\n",
       "   new_traffic_counts  pred_traffic  \n",
       "0           -3.977526     -1.594040  \n",
       "1           -3.854466     -0.800837  \n",
       "2           -3.833632     -1.246781  \n",
       "3           -3.698812     -1.251590  \n",
       "4           -3.580029     -1.326580  "
      ]
     },
     "execution_count": 299,
     "metadata": {},
     "output_type": "execute_result"
    }
   ],
   "source": [
    "Data1.head()"
   ]
  },
  {
   "cell_type": "code",
   "execution_count": 300,
   "metadata": {},
   "outputs": [],
   "source": [
    "Data1['standard_deviation'] = Data1.pred_traffic.std() * 2"
   ]
  },
  {
   "cell_type": "code",
   "execution_count": 301,
   "metadata": {},
   "outputs": [
    {
     "data": {
      "text/html": [
       "<div>\n",
       "<style scoped>\n",
       "    .dataframe tbody tr th:only-of-type {\n",
       "        vertical-align: middle;\n",
       "    }\n",
       "\n",
       "    .dataframe tbody tr th {\n",
       "        vertical-align: top;\n",
       "    }\n",
       "\n",
       "    .dataframe thead th {\n",
       "        text-align: right;\n",
       "    }\n",
       "</style>\n",
       "<table border=\"1\" class=\"dataframe\">\n",
       "  <thead>\n",
       "    <tr style=\"text-align: right;\">\n",
       "      <th></th>\n",
       "      <th>Longitude</th>\n",
       "      <th>Latitude</th>\n",
       "      <th>AvgDailyTrafficCount</th>\n",
       "      <th>log_traffic_counts</th>\n",
       "      <th>new_traffic_counts</th>\n",
       "      <th>pred_traffic</th>\n",
       "      <th>standard_deviation</th>\n",
       "    </tr>\n",
       "  </thead>\n",
       "  <tbody>\n",
       "    <tr>\n",
       "      <th>0</th>\n",
       "      <td>-80.278366</td>\n",
       "      <td>40.468606</td>\n",
       "      <td>84.0</td>\n",
       "      <td>4.430817</td>\n",
       "      <td>-3.977526</td>\n",
       "      <td>-1.594040</td>\n",
       "      <td>1.055257</td>\n",
       "    </tr>\n",
       "    <tr>\n",
       "      <th>1</th>\n",
       "      <td>-80.162117</td>\n",
       "      <td>40.384598</td>\n",
       "      <td>95.0</td>\n",
       "      <td>4.553877</td>\n",
       "      <td>-3.854466</td>\n",
       "      <td>-0.800837</td>\n",
       "      <td>1.055257</td>\n",
       "    </tr>\n",
       "    <tr>\n",
       "      <th>2</th>\n",
       "      <td>-80.221205</td>\n",
       "      <td>40.366778</td>\n",
       "      <td>97.0</td>\n",
       "      <td>4.574711</td>\n",
       "      <td>-3.833632</td>\n",
       "      <td>-1.246781</td>\n",
       "      <td>1.055257</td>\n",
       "    </tr>\n",
       "    <tr>\n",
       "      <th>3</th>\n",
       "      <td>-80.142455</td>\n",
       "      <td>40.622084</td>\n",
       "      <td>111.0</td>\n",
       "      <td>4.709530</td>\n",
       "      <td>-3.698812</td>\n",
       "      <td>-1.251590</td>\n",
       "      <td>1.055257</td>\n",
       "    </tr>\n",
       "    <tr>\n",
       "      <th>4</th>\n",
       "      <td>-80.131975</td>\n",
       "      <td>40.544915</td>\n",
       "      <td>125.0</td>\n",
       "      <td>4.828314</td>\n",
       "      <td>-3.580029</td>\n",
       "      <td>-1.326580</td>\n",
       "      <td>1.055257</td>\n",
       "    </tr>\n",
       "  </tbody>\n",
       "</table>\n",
       "</div>"
      ],
      "text/plain": [
       "   Longitude   Latitude  AvgDailyTrafficCount  log_traffic_counts  \\\n",
       "0 -80.278366  40.468606                  84.0            4.430817   \n",
       "1 -80.162117  40.384598                  95.0            4.553877   \n",
       "2 -80.221205  40.366778                  97.0            4.574711   \n",
       "3 -80.142455  40.622084                 111.0            4.709530   \n",
       "4 -80.131975  40.544915                 125.0            4.828314   \n",
       "\n",
       "   new_traffic_counts  pred_traffic  standard_deviation  \n",
       "0           -3.977526     -1.594040            1.055257  \n",
       "1           -3.854466     -0.800837            1.055257  \n",
       "2           -3.833632     -1.246781            1.055257  \n",
       "3           -3.698812     -1.251590            1.055257  \n",
       "4           -3.580029     -1.326580            1.055257  "
      ]
     },
     "execution_count": 301,
     "metadata": {},
     "output_type": "execute_result"
    }
   ],
   "source": [
    "Data1.head()"
   ]
  },
  {
   "cell_type": "code",
   "execution_count": 302,
   "metadata": {},
   "outputs": [
    {
     "data": {
      "text/plain": [
       "0"
      ]
     },
     "execution_count": 302,
     "metadata": {},
     "output_type": "execute_result"
    }
   ],
   "source": [
    "sum((Data1.new_traffic_counts - Data1.pred_traffic) > Data1.standard_deviation * 2)"
   ]
  },
  {
   "cell_type": "code",
   "execution_count": 303,
   "metadata": {},
   "outputs": [
    {
     "data": {
      "text/plain": [
       "16"
      ]
     },
     "execution_count": 303,
     "metadata": {},
     "output_type": "execute_result"
    }
   ],
   "source": [
    "sum((Data1.new_traffic_counts - Data1.pred_traffic) < Data1.standard_deviation * -2)"
   ]
  },
  {
   "cell_type": "code",
   "execution_count": 304,
   "metadata": {},
   "outputs": [
    {
     "data": {
      "text/plain": [
       "1115"
      ]
     },
     "execution_count": 304,
     "metadata": {},
     "output_type": "execute_result"
    }
   ],
   "source": [
    "Data1.pred_traffic.count()"
   ]
  },
  {
   "cell_type": "code",
   "execution_count": 305,
   "metadata": {},
   "outputs": [
    {
     "data": {
      "text/plain": [
       "1.4349775784753362"
      ]
     },
     "execution_count": 305,
     "metadata": {},
     "output_type": "execute_result"
    }
   ],
   "source": [
    "# percentage of sensors have average traffic counts more \n",
    "# than two standard deviations higher or lower than the model predicts given \n",
    "# their spatial location\n",
    "(16 + 0) / 1115 * 100"
   ]
  },
  {
   "cell_type": "markdown",
   "metadata": {},
   "source": [
    "### 5) Show a 2-D scatter plot of the sensor locations, with three colors corresponding to observed values a) more than two standard deviations higher than predicted, b) more then two standard deviations lower than predicted, and c) within two standard deviations of the predicted values. (10 pts)"
   ]
  },
  {
   "cell_type": "code",
   "execution_count": 327,
   "metadata": {},
   "outputs": [],
   "source": [
    "Data1['indicator'] = (Data1.new_traffic_counts - Data1.pred_traffic) / Data1.standard_deviation\n"
   ]
  },
  {
   "cell_type": "code",
   "execution_count": 328,
   "metadata": {},
   "outputs": [],
   "source": [
    "a =[]\n",
    "for i in Data1['indicator']:\n",
    "    if i < -2:\n",
    "        a.append(-1)\n",
    "    elif i > 2:\n",
    "        a.append(1)\n",
    "    else:\n",
    "        a.append(0)\n"
   ]
  },
  {
   "cell_type": "code",
   "execution_count": 329,
   "metadata": {},
   "outputs": [],
   "source": [
    "Data1['label'] = a"
   ]
  },
  {
   "cell_type": "code",
   "execution_count": 330,
   "metadata": {},
   "outputs": [
    {
     "data": {
      "text/html": [
       "<div>\n",
       "<style scoped>\n",
       "    .dataframe tbody tr th:only-of-type {\n",
       "        vertical-align: middle;\n",
       "    }\n",
       "\n",
       "    .dataframe tbody tr th {\n",
       "        vertical-align: top;\n",
       "    }\n",
       "\n",
       "    .dataframe thead th {\n",
       "        text-align: right;\n",
       "    }\n",
       "</style>\n",
       "<table border=\"1\" class=\"dataframe\">\n",
       "  <thead>\n",
       "    <tr style=\"text-align: right;\">\n",
       "      <th></th>\n",
       "      <th>Longitude</th>\n",
       "      <th>Latitude</th>\n",
       "      <th>AvgDailyTrafficCount</th>\n",
       "      <th>log_traffic_counts</th>\n",
       "      <th>new_traffic_counts</th>\n",
       "      <th>pred_traffic</th>\n",
       "      <th>standard_deviation</th>\n",
       "      <th>indicator</th>\n",
       "      <th>label</th>\n",
       "    </tr>\n",
       "  </thead>\n",
       "  <tbody>\n",
       "    <tr>\n",
       "      <th>0</th>\n",
       "      <td>-80.278366</td>\n",
       "      <td>40.468606</td>\n",
       "      <td>84.0</td>\n",
       "      <td>4.430817</td>\n",
       "      <td>-3.977526</td>\n",
       "      <td>-1.594040</td>\n",
       "      <td>1.055257</td>\n",
       "      <td>-2.258679</td>\n",
       "      <td>-1</td>\n",
       "    </tr>\n",
       "    <tr>\n",
       "      <th>1</th>\n",
       "      <td>-80.162117</td>\n",
       "      <td>40.384598</td>\n",
       "      <td>95.0</td>\n",
       "      <td>4.553877</td>\n",
       "      <td>-3.854466</td>\n",
       "      <td>-0.800837</td>\n",
       "      <td>1.055257</td>\n",
       "      <td>-2.893731</td>\n",
       "      <td>-1</td>\n",
       "    </tr>\n",
       "    <tr>\n",
       "      <th>2</th>\n",
       "      <td>-80.221205</td>\n",
       "      <td>40.366778</td>\n",
       "      <td>97.0</td>\n",
       "      <td>4.574711</td>\n",
       "      <td>-3.833632</td>\n",
       "      <td>-1.246781</td>\n",
       "      <td>1.055257</td>\n",
       "      <td>-2.451395</td>\n",
       "      <td>-1</td>\n",
       "    </tr>\n",
       "    <tr>\n",
       "      <th>3</th>\n",
       "      <td>-80.142455</td>\n",
       "      <td>40.622084</td>\n",
       "      <td>111.0</td>\n",
       "      <td>4.709530</td>\n",
       "      <td>-3.698812</td>\n",
       "      <td>-1.251590</td>\n",
       "      <td>1.055257</td>\n",
       "      <td>-2.319079</td>\n",
       "      <td>-1</td>\n",
       "    </tr>\n",
       "    <tr>\n",
       "      <th>4</th>\n",
       "      <td>-80.131975</td>\n",
       "      <td>40.544915</td>\n",
       "      <td>125.0</td>\n",
       "      <td>4.828314</td>\n",
       "      <td>-3.580029</td>\n",
       "      <td>-1.326580</td>\n",
       "      <td>1.055257</td>\n",
       "      <td>-2.135452</td>\n",
       "      <td>-1</td>\n",
       "    </tr>\n",
       "    <tr>\n",
       "      <th>5</th>\n",
       "      <td>-80.139674</td>\n",
       "      <td>40.623590</td>\n",
       "      <td>126.0</td>\n",
       "      <td>4.836282</td>\n",
       "      <td>-3.572061</td>\n",
       "      <td>-1.202210</td>\n",
       "      <td>1.055257</td>\n",
       "      <td>-2.245758</td>\n",
       "      <td>-1</td>\n",
       "    </tr>\n",
       "    <tr>\n",
       "      <th>6</th>\n",
       "      <td>-79.813385</td>\n",
       "      <td>40.583852</td>\n",
       "      <td>134.0</td>\n",
       "      <td>4.897840</td>\n",
       "      <td>-3.510503</td>\n",
       "      <td>-1.006076</td>\n",
       "      <td>1.055257</td>\n",
       "      <td>-2.373287</td>\n",
       "      <td>-1</td>\n",
       "    </tr>\n",
       "    <tr>\n",
       "      <th>7</th>\n",
       "      <td>-80.132048</td>\n",
       "      <td>40.537038</td>\n",
       "      <td>136.0</td>\n",
       "      <td>4.912655</td>\n",
       "      <td>-3.495688</td>\n",
       "      <td>-1.097593</td>\n",
       "      <td>1.055257</td>\n",
       "      <td>-2.272523</td>\n",
       "      <td>-1</td>\n",
       "    </tr>\n",
       "    <tr>\n",
       "      <th>8</th>\n",
       "      <td>-80.278168</td>\n",
       "      <td>40.466386</td>\n",
       "      <td>136.0</td>\n",
       "      <td>4.912655</td>\n",
       "      <td>-3.495688</td>\n",
       "      <td>-1.659734</td>\n",
       "      <td>1.055257</td>\n",
       "      <td>-1.739818</td>\n",
       "      <td>0</td>\n",
       "    </tr>\n",
       "    <tr>\n",
       "      <th>9</th>\n",
       "      <td>-80.138849</td>\n",
       "      <td>40.591467</td>\n",
       "      <td>141.0</td>\n",
       "      <td>4.948760</td>\n",
       "      <td>-3.459583</td>\n",
       "      <td>-1.626498</td>\n",
       "      <td>1.055257</td>\n",
       "      <td>-1.737098</td>\n",
       "      <td>0</td>\n",
       "    </tr>\n",
       "  </tbody>\n",
       "</table>\n",
       "</div>"
      ],
      "text/plain": [
       "   Longitude   Latitude  AvgDailyTrafficCount  log_traffic_counts  \\\n",
       "0 -80.278366  40.468606                  84.0            4.430817   \n",
       "1 -80.162117  40.384598                  95.0            4.553877   \n",
       "2 -80.221205  40.366778                  97.0            4.574711   \n",
       "3 -80.142455  40.622084                 111.0            4.709530   \n",
       "4 -80.131975  40.544915                 125.0            4.828314   \n",
       "5 -80.139674  40.623590                 126.0            4.836282   \n",
       "6 -79.813385  40.583852                 134.0            4.897840   \n",
       "7 -80.132048  40.537038                 136.0            4.912655   \n",
       "8 -80.278168  40.466386                 136.0            4.912655   \n",
       "9 -80.138849  40.591467                 141.0            4.948760   \n",
       "\n",
       "   new_traffic_counts  pred_traffic  standard_deviation  indicator  label  \n",
       "0           -3.977526     -1.594040            1.055257  -2.258679     -1  \n",
       "1           -3.854466     -0.800837            1.055257  -2.893731     -1  \n",
       "2           -3.833632     -1.246781            1.055257  -2.451395     -1  \n",
       "3           -3.698812     -1.251590            1.055257  -2.319079     -1  \n",
       "4           -3.580029     -1.326580            1.055257  -2.135452     -1  \n",
       "5           -3.572061     -1.202210            1.055257  -2.245758     -1  \n",
       "6           -3.510503     -1.006076            1.055257  -2.373287     -1  \n",
       "7           -3.495688     -1.097593            1.055257  -2.272523     -1  \n",
       "8           -3.495688     -1.659734            1.055257  -1.739818      0  \n",
       "9           -3.459583     -1.626498            1.055257  -1.737098      0  "
      ]
     },
     "execution_count": 330,
     "metadata": {},
     "output_type": "execute_result"
    }
   ],
   "source": [
    "Data1.head(10)"
   ]
  },
  {
   "cell_type": "code",
   "execution_count": 334,
   "metadata": {},
   "outputs": [
    {
     "data": {
      "image/png": "[encoded data removed]",
      "text/plain": [
       "<Figure size 720x720 with 1 Axes>"
      ]
     },
     "metadata": {},
     "output_type": "display_data"
    }
   ],
   "source": [
    "plt.figure(figsize=(10, 10))\n",
    "    # Plot the predicted probabilities. For that, we will assign a color to\n",
    "    # each point in the mesh [x_min, m_max]x[y_min, y_max].\n",
    "plt.subplot(1, 1, 1)\n",
    "Z = gp.predict(np.c_[xx.ravel(), yy.ravel()])\n",
    "# Put the result into a color plot\n",
    "Z = Z.reshape((xx.shape[0], xx.shape[1]))\n",
    "plt.imshow(Z, extent=(x_min, x_max, y_min, y_max), origin=\"lower\")\n",
    "\n",
    "# Plot also the training points\n",
    "plt.scatter(Data1.Longitude, Data1.Latitude, c=np.array(['b', 'g', 'r'])[Data1.label])\n",
    "plt.xlabel('Longitude')\n",
    "plt.ylabel('Latitude')\n",
    "plt.xlim(xx.min(), xx.max())\n",
    "plt.ylim(yy.min(), yy.max())\n",
    "plt.xticks(())\n",
    "plt.yticks(())\n",
    "plt.title(\"%s, LML: %.3f\" %\n",
    "          (\"RBF\", gp.log_marginal_likelihood_value_))\n",
    "plt.tight_layout()\n",
    "plt.show()"
   ]
  },
  {
   "cell_type": "markdown",
   "metadata": {
    "collapsed": true
   },
   "source": [
    "### Question 2: Cluster-based anomaly detection (10 points)\n",
    "\n",
    "Given an unlabeled dataset with two real-valued attributes, we perform cluster-based anomaly detection by running k-means, choosing the number of clusters k automatically using the Schwarz criterion.  Four clusters are formed:\n",
    "\n",
    "A: 100 points, center (0, 0), standard deviation 0.1\n",
    "\n",
    "B: 150 points, center (35, 5), standard deviation 5\n",
    "\n",
    "C: 2 points, center (15, 20), standard deviation 1\n",
    "\n",
    "D: 200 points, center (10, 10), standard deviation 1\n",
    "\n",
    "Given the four points below, which of these points are, and are not, likely to be anomalies?  Choose “Anomaly” or “Not Anomaly”, and provide a brief explanation, for each point. \n",
    "(Hint: your answers should take into account the size and standard deviation of each cluster as well as the distances to cluster centers.)\n",
    "\n",
    "(1, 0)\t\tAnomaly / Not Anomaly\n",
    "\n",
    "\n",
    "(35, 2)\t\tAnomaly / Not Anomaly\n",
    "\n",
    "\n",
    "(15, 19)\tAnomaly / Not Anomaly\n",
    "\n",
    "\n",
    "(10, 11)\tAnomaly / Not Anomaly\n"
   ]
  },
  {
   "cell_type": "markdown",
   "metadata": {},
   "source": [
    "#### Your solution here\n",
    "Anomaly; The standard deviation is 0.1, the point is 10 standard deviation away from the center. So it is anomaly.\n",
    "\n",
    "Not Anomaly; This point is witnin 1 standard deviation of the center. It is not-anomaly.\n",
    "\n",
    "Anomaly; Even though this point is witnin 1 standard deviation of the center. It only has two points in the cluster. So it is anomaly.\n",
    "\n",
    "Not Anomaly; This point is witnin 1 standard deviation of the center. It is not-anomaly."
   ]
  },
  {
   "cell_type": "markdown",
   "metadata": {},
   "source": [
    "### Question 3: Anomaly detection (50 points)\n",
    "\n",
    "For this question, use the \"County Health Indicators\" dataset provided to identify the most anomalous counties. Please list the top 5 most anomalous counties computed using each of the following models.  (We recommend that, as a pre-processing step, you drop na values, and make sure all numeric values are treated as floats not strings.)\n",
    "\n",
    "Part 1: Learn a Bayesian network structure using only the six features [\"'\\% Smokers'\",\"'\\% Obese'\",\"'Violent Crime Rate'\",\"'80/20 Income Ratio'\",\"'\\% Children in Poverty'\",\"'Average Daily PM2.5'\"].  Use pd.cut() to discretize each feature into 5 categories: 0,1,2,3,4. \n",
    "\n",
    "(a) Use HillClimbSearch and BicScore to learn the Bayesian network structure (5 pts) \n",
    "\n",
    "(b) Which 5 counties have the lowest (most negative) log-likelihood values? Please show a ranked list of the top counties' names and log-likelihood values. (10 pts)\n",
    "\n",
    "Part 2: Cluster based anomaly detection.  Use all numeric features for this part, and do not discretize. \n",
    "\n",
    "(a) Clustering with k-means. Please use k=3 clusters. Compute each record's distance to the nearest cluster center and report the five counties which have the longest distances. (10 pts)\n",
    "\n",
    "(b) Cluster with Gaussian Mixture. Please repeat (2)a but use log-likelihood for each record (rather than distance) as the measure of anomalousness. (10 pts)\n",
    "\n",
    "Part 3: Choose one more anomaly detection model you prefer and report the top 5 most anomalous counties by the model you chose.  (10 pts)\n",
    "\n",
    "Part 4: Compare and contrast the results from the different models.  Were there some counties that were found to be anomalous in some models and not in others?  Please provide some intuitions on why each county was found to be anomalous. (5 pts)"
   ]
  },
  {
   "cell_type": "code",
   "execution_count": 68,
   "metadata": {},
   "outputs": [
    {
     "data": {
      "text/html": [
       "<div>\n",
       "<style scoped>\n",
       "    .dataframe tbody tr th:only-of-type {\n",
       "        vertical-align: middle;\n",
       "    }\n",
       "\n",
       "    .dataframe tbody tr th {\n",
       "        vertical-align: top;\n",
       "    }\n",
       "\n",
       "    .dataframe thead th {\n",
       "        text-align: right;\n",
       "    }\n",
       "</style>\n",
       "<table border=\"1\" class=\"dataframe\">\n",
       "  <thead>\n",
       "    <tr style=\"text-align: right;\">\n",
       "      <th></th>\n",
       "      <th>County</th>\n",
       "      <th>'\\% Reporting Fair/Poor Health'</th>\n",
       "      <th>'Physically Unhealthy Days Per Month'</th>\n",
       "      <th>'Mentally Unhealthy Days Per Month'</th>\n",
       "      <th>'\\% Low birth weight births'</th>\n",
       "      <th>'\\% Smokers'</th>\n",
       "      <th>'\\% Obese'</th>\n",
       "      <th>'Food Environment Index'</th>\n",
       "      <th>'\\% Physically Inactive'</th>\n",
       "      <th>'\\% With Access To Exercise'</th>\n",
       "      <th>...</th>\n",
       "      <th>'\\% Children in Poverty'</th>\n",
       "      <th>'80/20 Income Ratio'</th>\n",
       "      <th>'\\% Single-Parent Households'</th>\n",
       "      <th>'Association Rate'</th>\n",
       "      <th>'Violent Crime Rate'</th>\n",
       "      <th>'Injury Death Rate'</th>\n",
       "      <th>'Average Daily PM2.5'</th>\n",
       "      <th>'\\% Severe Housing Problems'</th>\n",
       "      <th>'\\% Drive Alone'</th>\n",
       "      <th>'\\% Long Commute - Drives Alone'</th>\n",
       "    </tr>\n",
       "  </thead>\n",
       "  <tbody>\n",
       "    <tr>\n",
       "      <th>0</th>\n",
       "      <td>Autauga, Alabama</td>\n",
       "      <td>19</td>\n",
       "      <td>4.4</td>\n",
       "      <td>4.3</td>\n",
       "      <td>9</td>\n",
       "      <td>19</td>\n",
       "      <td>31</td>\n",
       "      <td>7.1</td>\n",
       "      <td>29</td>\n",
       "      <td>71</td>\n",
       "      <td>...</td>\n",
       "      <td>18</td>\n",
       "      <td>4.3</td>\n",
       "      <td>27</td>\n",
       "      <td>13.8</td>\n",
       "      <td>254</td>\n",
       "      <td>76</td>\n",
       "      <td>12.9</td>\n",
       "      <td>14</td>\n",
       "      <td>89</td>\n",
       "      <td>42</td>\n",
       "    </tr>\n",
       "    <tr>\n",
       "      <th>1</th>\n",
       "      <td>Baldwin, Alabama</td>\n",
       "      <td>16</td>\n",
       "      <td>4.1</td>\n",
       "      <td>4.2</td>\n",
       "      <td>9</td>\n",
       "      <td>19</td>\n",
       "      <td>27</td>\n",
       "      <td>7.6</td>\n",
       "      <td>25</td>\n",
       "      <td>72</td>\n",
       "      <td>...</td>\n",
       "      <td>20</td>\n",
       "      <td>4.5</td>\n",
       "      <td>28</td>\n",
       "      <td>12.0</td>\n",
       "      <td>221</td>\n",
       "      <td>70</td>\n",
       "      <td>13.1</td>\n",
       "      <td>15</td>\n",
       "      <td>84</td>\n",
       "      <td>37</td>\n",
       "    </tr>\n",
       "    <tr>\n",
       "      <th>2</th>\n",
       "      <td>Barbour, Alabama</td>\n",
       "      <td>26</td>\n",
       "      <td>4.9</td>\n",
       "      <td>4.7</td>\n",
       "      <td>12</td>\n",
       "      <td>21</td>\n",
       "      <td>41</td>\n",
       "      <td>5.1</td>\n",
       "      <td>33</td>\n",
       "      <td>45</td>\n",
       "      <td>...</td>\n",
       "      <td>38</td>\n",
       "      <td>5.3</td>\n",
       "      <td>54</td>\n",
       "      <td>8.1</td>\n",
       "      <td>147</td>\n",
       "      <td>64</td>\n",
       "      <td>12.6</td>\n",
       "      <td>18</td>\n",
       "      <td>84</td>\n",
       "      <td>35</td>\n",
       "    </tr>\n",
       "    <tr>\n",
       "      <th>3</th>\n",
       "      <td>Bibb, Alabama</td>\n",
       "      <td>22</td>\n",
       "      <td>4.8</td>\n",
       "      <td>4.6</td>\n",
       "      <td>12</td>\n",
       "      <td>21</td>\n",
       "      <td>40</td>\n",
       "      <td>7.4</td>\n",
       "      <td>33</td>\n",
       "      <td>33</td>\n",
       "      <td>...</td>\n",
       "      <td>27</td>\n",
       "      <td>4.3</td>\n",
       "      <td>32</td>\n",
       "      <td>9.8</td>\n",
       "      <td>236</td>\n",
       "      <td>75</td>\n",
       "      <td>12.9</td>\n",
       "      <td>13</td>\n",
       "      <td>84</td>\n",
       "      <td>46</td>\n",
       "    </tr>\n",
       "    <tr>\n",
       "      <th>4</th>\n",
       "      <td>Blount, Alabama</td>\n",
       "      <td>21</td>\n",
       "      <td>4.6</td>\n",
       "      <td>4.5</td>\n",
       "      <td>7</td>\n",
       "      <td>19</td>\n",
       "      <td>32</td>\n",
       "      <td>8.3</td>\n",
       "      <td>29</td>\n",
       "      <td>26</td>\n",
       "      <td>...</td>\n",
       "      <td>24</td>\n",
       "      <td>4.1</td>\n",
       "      <td>28</td>\n",
       "      <td>8.5</td>\n",
       "      <td>219</td>\n",
       "      <td>89</td>\n",
       "      <td>12.7</td>\n",
       "      <td>12</td>\n",
       "      <td>85</td>\n",
       "      <td>59</td>\n",
       "    </tr>\n",
       "  </tbody>\n",
       "</table>\n",
       "<p>5 rows × 31 columns</p>\n",
       "</div>"
      ],
      "text/plain": [
       "             County '\\% Reporting Fair/Poor Health'  \\\n",
       "0  Autauga, Alabama                              19   \n",
       "1  Baldwin, Alabama                              16   \n",
       "2  Barbour, Alabama                              26   \n",
       "3     Bibb, Alabama                              22   \n",
       "4   Blount, Alabama                              21   \n",
       "\n",
       "  'Physically Unhealthy Days Per Month' 'Mentally Unhealthy Days Per Month'  \\\n",
       "0                                   4.4                                 4.3   \n",
       "1                                   4.1                                 4.2   \n",
       "2                                   4.9                                 4.7   \n",
       "3                                   4.8                                 4.6   \n",
       "4                                   4.6                                 4.5   \n",
       "\n",
       "  '\\% Low birth weight births' '\\% Smokers'  '\\% Obese'  \\\n",
       "0                            9           19          31   \n",
       "1                            9           19          27   \n",
       "2                           12           21          41   \n",
       "3                           12           21          40   \n",
       "4                            7           19          32   \n",
       "\n",
       "   'Food Environment Index'  '\\% Physically Inactive'  \\\n",
       "0                       7.1                        29   \n",
       "1                       7.6                        25   \n",
       "2                       5.1                        33   \n",
       "3                       7.4                        33   \n",
       "4                       8.3                        29   \n",
       "\n",
       "  '\\% With Access To Exercise'               ...                 \\\n",
       "0                           71               ...                  \n",
       "1                           72               ...                  \n",
       "2                           45               ...                  \n",
       "3                           33               ...                  \n",
       "4                           26               ...                  \n",
       "\n",
       "  '\\% Children in Poverty' '80/20 Income Ratio' '\\% Single-Parent Households'  \\\n",
       "0                       18                  4.3                            27   \n",
       "1                       20                  4.5                            28   \n",
       "2                       38                  5.3                            54   \n",
       "3                       27                  4.3                            32   \n",
       "4                       24                  4.1                            28   \n",
       "\n",
       "  'Association Rate' 'Violent Crime Rate' 'Injury Death Rate'  \\\n",
       "0               13.8                  254                  76   \n",
       "1               12.0                  221                  70   \n",
       "2                8.1                  147                  64   \n",
       "3                9.8                  236                  75   \n",
       "4                8.5                  219                  89   \n",
       "\n",
       "  'Average Daily PM2.5' '\\% Severe Housing Problems' '\\% Drive Alone'  \\\n",
       "0                  12.9                           14               89   \n",
       "1                  13.1                           15               84   \n",
       "2                  12.6                           18               84   \n",
       "3                  12.9                           13               84   \n",
       "4                  12.7                           12               85   \n",
       "\n",
       "  '\\% Long Commute - Drives Alone'  \n",
       "0                               42  \n",
       "1                               37  \n",
       "2                               35  \n",
       "3                               46  \n",
       "4                               59  \n",
       "\n",
       "[5 rows x 31 columns]"
      ]
     },
     "execution_count": 68,
     "metadata": {},
     "output_type": "execute_result"
    }
   ],
   "source": [
    "Data2=pd.read_csv(\"2016CountyHealthIndicators.csv\")\n",
    "Data2.head()"
   ]
  },
  {
   "cell_type": "code",
   "execution_count": 69,
   "metadata": {},
   "outputs": [],
   "source": [
    "Data2.set_index('County', inplace=True)"
   ]
  },
  {
   "cell_type": "code",
   "execution_count": 70,
   "metadata": {},
   "outputs": [],
   "source": [
    "# your code here"
   ]
  },
  {
   "cell_type": "code",
   "execution_count": 71,
   "metadata": {},
   "outputs": [],
   "source": [
    "data2 = Data2[ [\"'\\% Smokers'\",\"'\\% Obese'\",\"'Violent Crime Rate'\",\"'80/20 Income Ratio'\",\"'\\% Children in Poverty'\",\"'Average Daily PM2.5'\"]]"
   ]
  },
  {
   "cell_type": "code",
   "execution_count": 72,
   "metadata": {},
   "outputs": [
    {
     "data": {
      "text/html": [
       "<div>\n",
       "<style scoped>\n",
       "    .dataframe tbody tr th:only-of-type {\n",
       "        vertical-align: middle;\n",
       "    }\n",
       "\n",
       "    .dataframe tbody tr th {\n",
       "        vertical-align: top;\n",
       "    }\n",
       "\n",
       "    .dataframe thead th {\n",
       "        text-align: right;\n",
       "    }\n",
       "</style>\n",
       "<table border=\"1\" class=\"dataframe\">\n",
       "  <thead>\n",
       "    <tr style=\"text-align: right;\">\n",
       "      <th></th>\n",
       "      <th>'\\% Smokers'</th>\n",
       "      <th>'\\% Obese'</th>\n",
       "      <th>'Violent Crime Rate'</th>\n",
       "      <th>'80/20 Income Ratio'</th>\n",
       "      <th>'\\% Children in Poverty'</th>\n",
       "      <th>'Average Daily PM2.5'</th>\n",
       "    </tr>\n",
       "    <tr>\n",
       "      <th>County</th>\n",
       "      <th></th>\n",
       "      <th></th>\n",
       "      <th></th>\n",
       "      <th></th>\n",
       "      <th></th>\n",
       "      <th></th>\n",
       "    </tr>\n",
       "  </thead>\n",
       "  <tbody>\n",
       "    <tr>\n",
       "      <th>Autauga, Alabama</th>\n",
       "      <td>19</td>\n",
       "      <td>31</td>\n",
       "      <td>254</td>\n",
       "      <td>4.3</td>\n",
       "      <td>18</td>\n",
       "      <td>12.9</td>\n",
       "    </tr>\n",
       "    <tr>\n",
       "      <th>Baldwin, Alabama</th>\n",
       "      <td>19</td>\n",
       "      <td>27</td>\n",
       "      <td>221</td>\n",
       "      <td>4.5</td>\n",
       "      <td>20</td>\n",
       "      <td>13.1</td>\n",
       "    </tr>\n",
       "    <tr>\n",
       "      <th>Barbour, Alabama</th>\n",
       "      <td>21</td>\n",
       "      <td>41</td>\n",
       "      <td>147</td>\n",
       "      <td>5.3</td>\n",
       "      <td>38</td>\n",
       "      <td>12.6</td>\n",
       "    </tr>\n",
       "    <tr>\n",
       "      <th>Bibb, Alabama</th>\n",
       "      <td>21</td>\n",
       "      <td>40</td>\n",
       "      <td>236</td>\n",
       "      <td>4.3</td>\n",
       "      <td>27</td>\n",
       "      <td>12.9</td>\n",
       "    </tr>\n",
       "    <tr>\n",
       "      <th>Blount, Alabama</th>\n",
       "      <td>19</td>\n",
       "      <td>32</td>\n",
       "      <td>219</td>\n",
       "      <td>4.1</td>\n",
       "      <td>24</td>\n",
       "      <td>12.7</td>\n",
       "    </tr>\n",
       "  </tbody>\n",
       "</table>\n",
       "</div>"
      ],
      "text/plain": [
       "                 '\\% Smokers'  '\\% Obese' 'Violent Crime Rate'  \\\n",
       "County                                                           \n",
       "Autauga, Alabama           19          31                  254   \n",
       "Baldwin, Alabama           19          27                  221   \n",
       "Barbour, Alabama           21          41                  147   \n",
       "Bibb, Alabama              21          40                  236   \n",
       "Blount, Alabama            19          32                  219   \n",
       "\n",
       "                 '80/20 Income Ratio' '\\% Children in Poverty'  \\\n",
       "County                                                           \n",
       "Autauga, Alabama                  4.3                       18   \n",
       "Baldwin, Alabama                  4.5                       20   \n",
       "Barbour, Alabama                  5.3                       38   \n",
       "Bibb, Alabama                     4.3                       27   \n",
       "Blount, Alabama                   4.1                       24   \n",
       "\n",
       "                 'Average Daily PM2.5'  \n",
       "County                                  \n",
       "Autauga, Alabama                  12.9  \n",
       "Baldwin, Alabama                  13.1  \n",
       "Barbour, Alabama                  12.6  \n",
       "Bibb, Alabama                     12.9  \n",
       "Blount, Alabama                   12.7  "
      ]
     },
     "execution_count": 72,
     "metadata": {},
     "output_type": "execute_result"
    }
   ],
   "source": [
    "data2.head()"
   ]
  },
  {
   "cell_type": "code",
   "execution_count": 73,
   "metadata": {},
   "outputs": [
    {
     "data": {
      "text/plain": [
       "'\\% Smokers'                object\n",
       "'\\% Obese'                   int64\n",
       "'Violent Crime Rate'        object\n",
       "'80/20 Income Ratio'        object\n",
       "'\\% Children in Poverty'    object\n",
       "'Average Daily PM2.5'       object\n",
       "dtype: object"
      ]
     },
     "execution_count": 73,
     "metadata": {},
     "output_type": "execute_result"
    }
   ],
   "source": [
    "data2.dtypes"
   ]
  },
  {
   "cell_type": "code",
   "execution_count": 79,
   "metadata": {},
   "outputs": [
    {
     "name": "stderr",
     "output_type": "stream",
     "text": [
      "/nfshome/jl9760/.conda/envs/myEnv/lib/python3.5/site-packages/ipykernel_launcher.py:1: FutureWarning: convert_objects is deprecated.  To re-infer data dtypes for object columns, use DataFrame.infer_objects()\n",
      "For all other conversions use the data-type specific converters pd.to_datetime, pd.to_timedelta and pd.to_numeric.\n",
      "  \"\"\"Entry point for launching an IPython kernel.\n"
     ]
    }
   ],
   "source": [
    "data2 = data2.convert_objects(convert_numeric=True)"
   ]
  },
  {
   "cell_type": "code",
   "execution_count": 80,
   "metadata": {},
   "outputs": [
    {
     "name": "stdout",
     "output_type": "stream",
     "text": [
      "                  '\\% Smokers'  '\\% Obese'  'Violent Crime Rate'  \\\n",
      "County                                                             \n",
      "Autauga, Alabama           1.0           2                   0.0   \n",
      "Baldwin, Alabama           1.0           2                   0.0   \n",
      "Barbour, Alabama           2.0           4                   0.0   \n",
      "Bibb, Alabama              2.0           4                   0.0   \n",
      "Blount, Alabama            1.0           2                   0.0   \n",
      "\n",
      "                  '80/20 Income Ratio'  '\\% Children in Poverty'  \\\n",
      "County                                                             \n",
      "Autauga, Alabama                   1.0                       1.0   \n",
      "Baldwin, Alabama                   1.0                       1.0   \n",
      "Barbour, Alabama                   1.0                       2.0   \n",
      "Bibb, Alabama                      1.0                       1.0   \n",
      "Blount, Alabama                    0.0                       1.0   \n",
      "\n",
      "                  'Average Daily PM2.5'  \n",
      "County                                   \n",
      "Autauga, Alabama                    3.0  \n",
      "Baldwin, Alabama                    3.0  \n",
      "Barbour, Alabama                    3.0  \n",
      "Bibb, Alabama                       3.0  \n",
      "Blount, Alabama                     3.0  \n"
     ]
    }
   ],
   "source": [
    "for i in data2.iloc[:,0:6]:\n",
    "    data2[i] = pd.cut(data2[i],5,labels=False)\n",
    "print(data2.head())"
   ]
  },
  {
   "cell_type": "code",
   "execution_count": 81,
   "metadata": {},
   "outputs": [
    {
     "data": {
      "text/html": [
       "<div>\n",
       "<style scoped>\n",
       "    .dataframe tbody tr th:only-of-type {\n",
       "        vertical-align: middle;\n",
       "    }\n",
       "\n",
       "    .dataframe tbody tr th {\n",
       "        vertical-align: top;\n",
       "    }\n",
       "\n",
       "    .dataframe thead th {\n",
       "        text-align: right;\n",
       "    }\n",
       "</style>\n",
       "<table border=\"1\" class=\"dataframe\">\n",
       "  <thead>\n",
       "    <tr style=\"text-align: right;\">\n",
       "      <th></th>\n",
       "      <th>'\\% Smokers'</th>\n",
       "      <th>'\\% Obese'</th>\n",
       "      <th>'Violent Crime Rate'</th>\n",
       "      <th>'80/20 Income Ratio'</th>\n",
       "      <th>'\\% Children in Poverty'</th>\n",
       "      <th>'Average Daily PM2.5'</th>\n",
       "    </tr>\n",
       "    <tr>\n",
       "      <th>County</th>\n",
       "      <th></th>\n",
       "      <th></th>\n",
       "      <th></th>\n",
       "      <th></th>\n",
       "      <th></th>\n",
       "      <th></th>\n",
       "    </tr>\n",
       "  </thead>\n",
       "  <tbody>\n",
       "    <tr>\n",
       "      <th>Autauga, Alabama</th>\n",
       "      <td>1.0</td>\n",
       "      <td>2</td>\n",
       "      <td>0.0</td>\n",
       "      <td>1.0</td>\n",
       "      <td>1.0</td>\n",
       "      <td>3.0</td>\n",
       "    </tr>\n",
       "    <tr>\n",
       "      <th>Baldwin, Alabama</th>\n",
       "      <td>1.0</td>\n",
       "      <td>2</td>\n",
       "      <td>0.0</td>\n",
       "      <td>1.0</td>\n",
       "      <td>1.0</td>\n",
       "      <td>3.0</td>\n",
       "    </tr>\n",
       "    <tr>\n",
       "      <th>Barbour, Alabama</th>\n",
       "      <td>2.0</td>\n",
       "      <td>4</td>\n",
       "      <td>0.0</td>\n",
       "      <td>1.0</td>\n",
       "      <td>2.0</td>\n",
       "      <td>3.0</td>\n",
       "    </tr>\n",
       "    <tr>\n",
       "      <th>Bibb, Alabama</th>\n",
       "      <td>2.0</td>\n",
       "      <td>4</td>\n",
       "      <td>0.0</td>\n",
       "      <td>1.0</td>\n",
       "      <td>1.0</td>\n",
       "      <td>3.0</td>\n",
       "    </tr>\n",
       "    <tr>\n",
       "      <th>Blount, Alabama</th>\n",
       "      <td>1.0</td>\n",
       "      <td>2</td>\n",
       "      <td>0.0</td>\n",
       "      <td>0.0</td>\n",
       "      <td>1.0</td>\n",
       "      <td>3.0</td>\n",
       "    </tr>\n",
       "  </tbody>\n",
       "</table>\n",
       "</div>"
      ],
      "text/plain": [
       "                  '\\% Smokers'  '\\% Obese'  'Violent Crime Rate'  \\\n",
       "County                                                             \n",
       "Autauga, Alabama           1.0           2                   0.0   \n",
       "Baldwin, Alabama           1.0           2                   0.0   \n",
       "Barbour, Alabama           2.0           4                   0.0   \n",
       "Bibb, Alabama              2.0           4                   0.0   \n",
       "Blount, Alabama            1.0           2                   0.0   \n",
       "\n",
       "                  '80/20 Income Ratio'  '\\% Children in Poverty'  \\\n",
       "County                                                             \n",
       "Autauga, Alabama                   1.0                       1.0   \n",
       "Baldwin, Alabama                   1.0                       1.0   \n",
       "Barbour, Alabama                   1.0                       2.0   \n",
       "Bibb, Alabama                      1.0                       1.0   \n",
       "Blount, Alabama                    0.0                       1.0   \n",
       "\n",
       "                  'Average Daily PM2.5'  \n",
       "County                                   \n",
       "Autauga, Alabama                    3.0  \n",
       "Baldwin, Alabama                    3.0  \n",
       "Barbour, Alabama                    3.0  \n",
       "Bibb, Alabama                       3.0  \n",
       "Blount, Alabama                     3.0  "
      ]
     },
     "execution_count": 81,
     "metadata": {},
     "output_type": "execute_result"
    }
   ],
   "source": [
    "data2.head()"
   ]
  },
  {
   "cell_type": "code",
   "execution_count": 82,
   "metadata": {},
   "outputs": [
    {
     "data": {
      "text/plain": [
       "'\\% Smokers'                float64\n",
       "'\\% Obese'                    int64\n",
       "'Violent Crime Rate'        float64\n",
       "'80/20 Income Ratio'        float64\n",
       "'\\% Children in Poverty'    float64\n",
       "'Average Daily PM2.5'       float64\n",
       "dtype: object"
      ]
     },
     "execution_count": 82,
     "metadata": {},
     "output_type": "execute_result"
    }
   ],
   "source": [
    "data2.dtypes"
   ]
  },
  {
   "cell_type": "code",
   "execution_count": 83,
   "metadata": {},
   "outputs": [],
   "source": [
    "data2[\"'\\% Obese'\"] = data2[\"'\\% Obese'\"].astype('float64')"
   ]
  },
  {
   "cell_type": "code",
   "execution_count": 84,
   "metadata": {},
   "outputs": [
    {
     "data": {
      "text/plain": [
       "'\\% Smokers'                 True\n",
       "'\\% Obese'                  False\n",
       "'Violent Crime Rate'         True\n",
       "'80/20 Income Ratio'         True\n",
       "'\\% Children in Poverty'     True\n",
       "'Average Daily PM2.5'        True\n",
       "dtype: bool"
      ]
     },
     "execution_count": 84,
     "metadata": {},
     "output_type": "execute_result"
    }
   ],
   "source": [
    "data2.isna().any()"
   ]
  },
  {
   "cell_type": "code",
   "execution_count": 85,
   "metadata": {},
   "outputs": [],
   "source": [
    "data2 = data2.dropna()"
   ]
  },
  {
   "cell_type": "code",
   "execution_count": 86,
   "metadata": {},
   "outputs": [],
   "source": [
    "data2[data2.columns] = data2[data2.columns].astype('int64')"
   ]
  },
  {
   "cell_type": "code",
   "execution_count": 87,
   "metadata": {},
   "outputs": [
    {
     "data": {
      "text/html": [
       "<div>\n",
       "<style scoped>\n",
       "    .dataframe tbody tr th:only-of-type {\n",
       "        vertical-align: middle;\n",
       "    }\n",
       "\n",
       "    .dataframe tbody tr th {\n",
       "        vertical-align: top;\n",
       "    }\n",
       "\n",
       "    .dataframe thead th {\n",
       "        text-align: right;\n",
       "    }\n",
       "</style>\n",
       "<table border=\"1\" class=\"dataframe\">\n",
       "  <thead>\n",
       "    <tr style=\"text-align: right;\">\n",
       "      <th></th>\n",
       "      <th>'\\% Smokers'</th>\n",
       "      <th>'\\% Obese'</th>\n",
       "      <th>'Violent Crime Rate'</th>\n",
       "      <th>'80/20 Income Ratio'</th>\n",
       "      <th>'\\% Children in Poverty'</th>\n",
       "      <th>'Average Daily PM2.5'</th>\n",
       "    </tr>\n",
       "    <tr>\n",
       "      <th>County</th>\n",
       "      <th></th>\n",
       "      <th></th>\n",
       "      <th></th>\n",
       "      <th></th>\n",
       "      <th></th>\n",
       "      <th></th>\n",
       "    </tr>\n",
       "  </thead>\n",
       "  <tbody>\n",
       "    <tr>\n",
       "      <th>Autauga, Alabama</th>\n",
       "      <td>1</td>\n",
       "      <td>2</td>\n",
       "      <td>0</td>\n",
       "      <td>1</td>\n",
       "      <td>1</td>\n",
       "      <td>3</td>\n",
       "    </tr>\n",
       "    <tr>\n",
       "      <th>Baldwin, Alabama</th>\n",
       "      <td>1</td>\n",
       "      <td>2</td>\n",
       "      <td>0</td>\n",
       "      <td>1</td>\n",
       "      <td>1</td>\n",
       "      <td>3</td>\n",
       "    </tr>\n",
       "    <tr>\n",
       "      <th>Barbour, Alabama</th>\n",
       "      <td>2</td>\n",
       "      <td>4</td>\n",
       "      <td>0</td>\n",
       "      <td>1</td>\n",
       "      <td>2</td>\n",
       "      <td>3</td>\n",
       "    </tr>\n",
       "    <tr>\n",
       "      <th>Bibb, Alabama</th>\n",
       "      <td>2</td>\n",
       "      <td>4</td>\n",
       "      <td>0</td>\n",
       "      <td>1</td>\n",
       "      <td>1</td>\n",
       "      <td>3</td>\n",
       "    </tr>\n",
       "    <tr>\n",
       "      <th>Blount, Alabama</th>\n",
       "      <td>1</td>\n",
       "      <td>2</td>\n",
       "      <td>0</td>\n",
       "      <td>0</td>\n",
       "      <td>1</td>\n",
       "      <td>3</td>\n",
       "    </tr>\n",
       "  </tbody>\n",
       "</table>\n",
       "</div>"
      ],
      "text/plain": [
       "                  '\\% Smokers'  '\\% Obese'  'Violent Crime Rate'  \\\n",
       "County                                                             \n",
       "Autauga, Alabama             1           2                     0   \n",
       "Baldwin, Alabama             1           2                     0   \n",
       "Barbour, Alabama             2           4                     0   \n",
       "Bibb, Alabama                2           4                     0   \n",
       "Blount, Alabama              1           2                     0   \n",
       "\n",
       "                  '80/20 Income Ratio'  '\\% Children in Poverty'  \\\n",
       "County                                                             \n",
       "Autauga, Alabama                     1                         1   \n",
       "Baldwin, Alabama                     1                         1   \n",
       "Barbour, Alabama                     1                         2   \n",
       "Bibb, Alabama                        1                         1   \n",
       "Blount, Alabama                      0                         1   \n",
       "\n",
       "                  'Average Daily PM2.5'  \n",
       "County                                   \n",
       "Autauga, Alabama                      3  \n",
       "Baldwin, Alabama                      3  \n",
       "Barbour, Alabama                      3  \n",
       "Bibb, Alabama                         3  \n",
       "Blount, Alabama                       3  "
      ]
     },
     "execution_count": 87,
     "metadata": {},
     "output_type": "execute_result"
    }
   ],
   "source": [
    "data2.head()"
   ]
  },
  {
   "cell_type": "code",
   "execution_count": 88,
   "metadata": {},
   "outputs": [
    {
     "data": {
      "text/plain": [
       "'\\% Smokers'                False\n",
       "'\\% Obese'                  False\n",
       "'Violent Crime Rate'        False\n",
       "'80/20 Income Ratio'        False\n",
       "'\\% Children in Poverty'    False\n",
       "'Average Daily PM2.5'       False\n",
       "dtype: bool"
      ]
     },
     "execution_count": 88,
     "metadata": {},
     "output_type": "execute_result"
    }
   ],
   "source": [
    "data2.isna().any()"
   ]
  },
  {
   "cell_type": "markdown",
   "metadata": {},
   "source": [
    "### (a) Use HillClimbSearch and BicScore to learn the Bayesian network structure (5 pts)"
   ]
  },
  {
   "cell_type": "code",
   "execution_count": 89,
   "metadata": {},
   "outputs": [
    {
     "name": "stdout",
     "output_type": "stream",
     "text": [
      "[(\"'\\\\% Smokers'\", \"'\\\\% Obese'\"), (\"'\\\\% Smokers'\", \"'Average Daily PM2.5'\"), (\"'\\\\% Children in Poverty'\", \"'\\\\% Smokers'\"), (\"'80/20 Income Ratio'\", \"'Violent Crime Rate'\"), (\"'80/20 Income Ratio'\", \"'\\\\% Children in Poverty'\")]\n"
     ]
    }
   ],
   "source": [
    "hc = HillClimbSearch(data2, scoring_method=BicScore(data2))\n",
    "best_model = hc.estimate()\n",
    "print(best_model.edges())"
   ]
  },
  {
   "cell_type": "markdown",
   "metadata": {},
   "source": [
    "### (b) Which 5 counties have the lowest (most negative) log-likelihood values? Please show a ranked list of the top counties' names and log-likelihood values. (10 pts)"
   ]
  },
  {
   "cell_type": "code",
   "execution_count": 90,
   "metadata": {},
   "outputs": [],
   "source": [
    "model = BayesianModel(best_model.edges())\n",
    "model.fit(data2, estimator=MaximumLikelihoodEstimator)"
   ]
  },
  {
   "cell_type": "code",
   "execution_count": 91,
   "metadata": {},
   "outputs": [],
   "source": [
    "def LL(x,model,verbose=False):\n",
    "    loglike = 0\n",
    "    for cpd in model.get_cpds():\n",
    "        temp_cpd = cpd.copy()\n",
    "        thevariable = temp_cpd.variable\n",
    "        theparents = model.predecessors(thevariable)\n",
    "        for parent in theparents:\n",
    "            temp_cpd.reduce([(parent, x[parent])])\n",
    "        theprob = temp_cpd.get_values()[x[thevariable],0]\n",
    "        if verbose:\n",
    "            print(thevariable,theparents,theprob)\n",
    "        loglike += np.log(theprob)\n",
    "    return loglike"
   ]
  },
  {
   "cell_type": "code",
   "execution_count": 92,
   "metadata": {},
   "outputs": [],
   "source": [
    "exmp=data2.apply(lambda x: LL(x,model),axis=1)"
   ]
  },
  {
   "cell_type": "code",
   "execution_count": 93,
   "metadata": {},
   "outputs": [
    {
     "name": "stdout",
     "output_type": "stream",
     "text": [
      "County\n",
      "New York, New York           -14.949340\n",
      "Kenedy, Texas                -13.838691\n",
      "Suffolk, Massachusetts       -13.632577\n",
      "Orangeburg, South Carolina   -13.371240\n",
      "Clayton, Georgia             -13.345084\n",
      "dtype: float64\n"
     ]
    }
   ],
   "source": [
    "print(exmp.sort_values().head(5))"
   ]
  },
  {
   "cell_type": "markdown",
   "metadata": {},
   "source": [
    "### Part 2: Cluster based anomaly detection. Use all numeric features for this part, and do not discretize.\n",
    "\n",
    "### (a) Clustering with k-means. Please use k=3 clusters. Compute each record's distance to the nearest cluster center and report the five counties which have the longest distances. (10 pts)"
   ]
  },
  {
   "cell_type": "code",
   "execution_count": 335,
   "metadata": {},
   "outputs": [],
   "source": [
    "Data3=pd.read_csv(\"2016CountyHealthIndicators.csv\")"
   ]
  },
  {
   "cell_type": "code",
   "execution_count": 336,
   "metadata": {},
   "outputs": [],
   "source": [
    "Data3.set_index('County', inplace=True)"
   ]
  },
  {
   "cell_type": "code",
   "execution_count": 337,
   "metadata": {},
   "outputs": [],
   "source": [
    "data3 = Data3[ [\"'\\% Smokers'\",\"'\\% Obese'\",\"'Violent Crime Rate'\",\"'80/20 Income Ratio'\",\"'\\% Children in Poverty'\",\"'Average Daily PM2.5'\"]]"
   ]
  },
  {
   "cell_type": "code",
   "execution_count": 343,
   "metadata": {},
   "outputs": [
    {
     "name": "stderr",
     "output_type": "stream",
     "text": [
      "/nfshome/jl9760/.conda/envs/myEnv/lib/python3.5/site-packages/ipykernel_launcher.py:1: FutureWarning: convert_objects is deprecated.  To re-infer data dtypes for object columns, use DataFrame.infer_objects()\n",
      "For all other conversions use the data-type specific converters pd.to_datetime, pd.to_timedelta and pd.to_numeric.\n",
      "  \"\"\"Entry point for launching an IPython kernel.\n"
     ]
    }
   ],
   "source": [
    "data3 = data3.convert_objects(convert_numeric=True)"
   ]
  },
  {
   "cell_type": "code",
   "execution_count": 344,
   "metadata": {},
   "outputs": [
    {
     "data": {
      "text/plain": [
       "'\\% Smokers'                 True\n",
       "'\\% Obese'                  False\n",
       "'Violent Crime Rate'         True\n",
       "'80/20 Income Ratio'         True\n",
       "'\\% Children in Poverty'     True\n",
       "'Average Daily PM2.5'        True\n",
       "dtype: bool"
      ]
     },
     "execution_count": 344,
     "metadata": {},
     "output_type": "execute_result"
    }
   ],
   "source": [
    "data3.isna().any()"
   ]
  },
  {
   "cell_type": "code",
   "execution_count": 345,
   "metadata": {},
   "outputs": [],
   "source": [
    "data3 = data3.dropna()"
   ]
  },
  {
   "cell_type": "code",
   "execution_count": null,
   "metadata": {},
   "outputs": [],
   "source": []
  },
  {
   "cell_type": "code",
   "execution_count": null,
   "metadata": {},
   "outputs": [],
   "source": []
  },
  {
   "cell_type": "code",
   "execution_count": 346,
   "metadata": {},
   "outputs": [],
   "source": [
    "KM=KMeans(n_clusters=3,random_state=999)\n",
    "scor=KM.fit_predict(data3)"
   ]
  },
  {
   "cell_type": "code",
   "execution_count": 347,
   "metadata": {},
   "outputs": [
    {
     "data": {
      "text/html": [
       "<div>\n",
       "<style scoped>\n",
       "    .dataframe tbody tr th:only-of-type {\n",
       "        vertical-align: middle;\n",
       "    }\n",
       "\n",
       "    .dataframe tbody tr th {\n",
       "        vertical-align: top;\n",
       "    }\n",
       "\n",
       "    .dataframe thead th {\n",
       "        text-align: right;\n",
       "    }\n",
       "</style>\n",
       "<table border=\"1\" class=\"dataframe\">\n",
       "  <thead>\n",
       "    <tr style=\"text-align: right;\">\n",
       "      <th></th>\n",
       "      <th>0</th>\n",
       "      <th>1</th>\n",
       "      <th>2</th>\n",
       "    </tr>\n",
       "  </thead>\n",
       "  <tbody>\n",
       "    <tr>\n",
       "      <th>0</th>\n",
       "      <td>94.702827</td>\n",
       "      <td>127.525879</td>\n",
       "      <td>461.141644</td>\n",
       "    </tr>\n",
       "    <tr>\n",
       "      <th>1</th>\n",
       "      <td>127.579146</td>\n",
       "      <td>94.563706</td>\n",
       "      <td>494.112193</td>\n",
       "    </tr>\n",
       "    <tr>\n",
       "      <th>2</th>\n",
       "      <td>202.016451</td>\n",
       "      <td>28.511758</td>\n",
       "      <td>568.056649</td>\n",
       "    </tr>\n",
       "    <tr>\n",
       "      <th>3</th>\n",
       "      <td>112.774603</td>\n",
       "      <td>110.064140</td>\n",
       "      <td>479.025324</td>\n",
       "    </tr>\n",
       "    <tr>\n",
       "      <th>4</th>\n",
       "      <td>129.400105</td>\n",
       "      <td>92.526057</td>\n",
       "      <td>496.005409</td>\n",
       "    </tr>\n",
       "  </tbody>\n",
       "</table>\n",
       "</div>"
      ],
      "text/plain": [
       "            0           1           2\n",
       "0   94.702827  127.525879  461.141644\n",
       "1  127.579146   94.563706  494.112193\n",
       "2  202.016451   28.511758  568.056649\n",
       "3  112.774603  110.064140  479.025324\n",
       "4  129.400105   92.526057  496.005409"
      ]
     },
     "execution_count": 347,
     "metadata": {},
     "output_type": "execute_result"
    }
   ],
   "source": [
    "res=pd.DataFrame(KM.transform(data3))\n",
    "res.head()"
   ]
  },
  {
   "cell_type": "code",
   "execution_count": 348,
   "metadata": {},
   "outputs": [],
   "source": [
    "res.set_index(data3.index, inplace=True)"
   ]
  },
  {
   "cell_type": "code",
   "execution_count": 349,
   "metadata": {},
   "outputs": [
    {
     "data": {
      "text/html": [
       "<div>\n",
       "<style scoped>\n",
       "    .dataframe tbody tr th:only-of-type {\n",
       "        vertical-align: middle;\n",
       "    }\n",
       "\n",
       "    .dataframe tbody tr th {\n",
       "        vertical-align: top;\n",
       "    }\n",
       "\n",
       "    .dataframe thead th {\n",
       "        text-align: right;\n",
       "    }\n",
       "</style>\n",
       "<table border=\"1\" class=\"dataframe\">\n",
       "  <thead>\n",
       "    <tr style=\"text-align: right;\">\n",
       "      <th></th>\n",
       "      <th>0</th>\n",
       "      <th>1</th>\n",
       "      <th>2</th>\n",
       "    </tr>\n",
       "    <tr>\n",
       "      <th>County</th>\n",
       "      <th></th>\n",
       "      <th></th>\n",
       "      <th></th>\n",
       "    </tr>\n",
       "  </thead>\n",
       "  <tbody>\n",
       "    <tr>\n",
       "      <th>Autauga, Alabama</th>\n",
       "      <td>94.702827</td>\n",
       "      <td>127.525879</td>\n",
       "      <td>461.141644</td>\n",
       "    </tr>\n",
       "    <tr>\n",
       "      <th>Baldwin, Alabama</th>\n",
       "      <td>127.579146</td>\n",
       "      <td>94.563706</td>\n",
       "      <td>494.112193</td>\n",
       "    </tr>\n",
       "    <tr>\n",
       "      <th>Barbour, Alabama</th>\n",
       "      <td>202.016451</td>\n",
       "      <td>28.511758</td>\n",
       "      <td>568.056649</td>\n",
       "    </tr>\n",
       "    <tr>\n",
       "      <th>Bibb, Alabama</th>\n",
       "      <td>112.774603</td>\n",
       "      <td>110.064140</td>\n",
       "      <td>479.025324</td>\n",
       "    </tr>\n",
       "    <tr>\n",
       "      <th>Blount, Alabama</th>\n",
       "      <td>129.400105</td>\n",
       "      <td>92.526057</td>\n",
       "      <td>496.005409</td>\n",
       "    </tr>\n",
       "  </tbody>\n",
       "</table>\n",
       "</div>"
      ],
      "text/plain": [
       "                           0           1           2\n",
       "County                                              \n",
       "Autauga, Alabama   94.702827  127.525879  461.141644\n",
       "Baldwin, Alabama  127.579146   94.563706  494.112193\n",
       "Barbour, Alabama  202.016451   28.511758  568.056649\n",
       "Bibb, Alabama     112.774603  110.064140  479.025324\n",
       "Blount, Alabama   129.400105   92.526057  496.005409"
      ]
     },
     "execution_count": 349,
     "metadata": {},
     "output_type": "execute_result"
    }
   ],
   "source": [
    "res.head()"
   ]
  },
  {
   "cell_type": "code",
   "execution_count": 350,
   "metadata": {},
   "outputs": [
    {
     "data": {
      "text/html": [
       "<div>\n",
       "<style scoped>\n",
       "    .dataframe tbody tr th:only-of-type {\n",
       "        vertical-align: middle;\n",
       "    }\n",
       "\n",
       "    .dataframe tbody tr th {\n",
       "        vertical-align: top;\n",
       "    }\n",
       "\n",
       "    .dataframe thead th {\n",
       "        text-align: right;\n",
       "    }\n",
       "</style>\n",
       "<table border=\"1\" class=\"dataframe\">\n",
       "  <thead>\n",
       "    <tr style=\"text-align: right;\">\n",
       "      <th></th>\n",
       "      <th>0</th>\n",
       "      <th>1</th>\n",
       "      <th>2</th>\n",
       "      <th>cluster</th>\n",
       "      <th>score</th>\n",
       "    </tr>\n",
       "  </thead>\n",
       "  <tbody>\n",
       "    <tr>\n",
       "      <th>1475</th>\n",
       "      <td>1536.737001</td>\n",
       "      <td>1758.619061</td>\n",
       "      <td>1170.125009</td>\n",
       "      <td>2</td>\n",
       "      <td>1170.125009</td>\n",
       "    </tr>\n",
       "    <tr>\n",
       "      <th>98</th>\n",
       "      <td>1415.740393</td>\n",
       "      <td>1637.620920</td>\n",
       "      <td>1049.125109</td>\n",
       "      <td>2</td>\n",
       "      <td>1049.125109</td>\n",
       "    </tr>\n",
       "    <tr>\n",
       "      <th>1129</th>\n",
       "      <td>1100.647585</td>\n",
       "      <td>1322.518497</td>\n",
       "      <td>734.050805</td>\n",
       "      <td>2</td>\n",
       "      <td>734.050805</td>\n",
       "    </tr>\n",
       "    <tr>\n",
       "      <th>552</th>\n",
       "      <td>1077.957101</td>\n",
       "      <td>1299.842185</td>\n",
       "      <td>711.371879</td>\n",
       "      <td>2</td>\n",
       "      <td>711.371879</td>\n",
       "    </tr>\n",
       "    <tr>\n",
       "      <th>2177</th>\n",
       "      <td>1002.651686</td>\n",
       "      <td>1224.524321</td>\n",
       "      <td>636.055287</td>\n",
       "      <td>2</td>\n",
       "      <td>636.055287</td>\n",
       "    </tr>\n",
       "  </tbody>\n",
       "</table>\n",
       "</div>"
      ],
      "text/plain": [
       "                0            1            2  cluster        score\n",
       "1475  1536.737001  1758.619061  1170.125009        2  1170.125009\n",
       "98    1415.740393  1637.620920  1049.125109        2  1049.125109\n",
       "1129  1100.647585  1322.518497   734.050805        2   734.050805\n",
       "552   1077.957101  1299.842185   711.371879        2   711.371879\n",
       "2177  1002.651686  1224.524321   636.055287        2   636.055287"
      ]
     },
     "execution_count": 350,
     "metadata": {},
     "output_type": "execute_result"
    }
   ],
   "source": [
    "res=pd.DataFrame(KM.transform(data3))\n",
    "res=pd.concat((res,pd.DataFrame(KM.fit_predict(data3))),axis=1)\n",
    "res.columns=list(range(3))+[\"cluster\"]\n",
    "res.loc[:,\"score\"]=res.apply(lambda x: x[int(x[\"cluster\"])],axis=1)\n",
    "\n",
    "# find data records farthest from cluster centers\n",
    "res.sort_values(\"score\",ascending=False)[:5]\n"
   ]
  },
  {
   "cell_type": "code",
   "execution_count": 351,
   "metadata": {},
   "outputs": [],
   "source": [
    "res.set_index(data3.index, inplace=True)"
   ]
  },
  {
   "cell_type": "code",
   "execution_count": 352,
   "metadata": {},
   "outputs": [
    {
     "data": {
      "text/html": [
       "<div>\n",
       "<style scoped>\n",
       "    .dataframe tbody tr th:only-of-type {\n",
       "        vertical-align: middle;\n",
       "    }\n",
       "\n",
       "    .dataframe tbody tr th {\n",
       "        vertical-align: top;\n",
       "    }\n",
       "\n",
       "    .dataframe thead th {\n",
       "        text-align: right;\n",
       "    }\n",
       "</style>\n",
       "<table border=\"1\" class=\"dataframe\">\n",
       "  <thead>\n",
       "    <tr style=\"text-align: right;\">\n",
       "      <th></th>\n",
       "      <th>0</th>\n",
       "      <th>1</th>\n",
       "      <th>2</th>\n",
       "      <th>cluster</th>\n",
       "      <th>score</th>\n",
       "    </tr>\n",
       "    <tr>\n",
       "      <th>County</th>\n",
       "      <th></th>\n",
       "      <th></th>\n",
       "      <th></th>\n",
       "      <th></th>\n",
       "      <th></th>\n",
       "    </tr>\n",
       "  </thead>\n",
       "  <tbody>\n",
       "    <tr>\n",
       "      <th>St. Louis City, Missouri</th>\n",
       "      <td>1536.737001</td>\n",
       "      <td>1758.619061</td>\n",
       "      <td>1170.125009</td>\n",
       "      <td>2</td>\n",
       "      <td>1170.125009</td>\n",
       "    </tr>\n",
       "    <tr>\n",
       "      <th>Crittenden, Arkansas</th>\n",
       "      <td>1415.740393</td>\n",
       "      <td>1637.620920</td>\n",
       "      <td>1049.125109</td>\n",
       "      <td>2</td>\n",
       "      <td>1049.125109</td>\n",
       "    </tr>\n",
       "    <tr>\n",
       "      <th>Baltimore City, Maryland</th>\n",
       "      <td>1100.647585</td>\n",
       "      <td>1322.518497</td>\n",
       "      <td>734.050805</td>\n",
       "      <td>2</td>\n",
       "      <td>734.050805</td>\n",
       "    </tr>\n",
       "    <tr>\n",
       "      <th>Alexander, Illinois</th>\n",
       "      <td>1077.957101</td>\n",
       "      <td>1299.842185</td>\n",
       "      <td>711.371879</td>\n",
       "      <td>2</td>\n",
       "      <td>711.371879</td>\n",
       "    </tr>\n",
       "    <tr>\n",
       "      <th>Greenwood, South Carolina</th>\n",
       "      <td>1002.651686</td>\n",
       "      <td>1224.524321</td>\n",
       "      <td>636.055287</td>\n",
       "      <td>2</td>\n",
       "      <td>636.055287</td>\n",
       "    </tr>\n",
       "  </tbody>\n",
       "</table>\n",
       "</div>"
      ],
      "text/plain": [
       "                                     0            1            2  cluster  \\\n",
       "County                                                                      \n",
       "St. Louis City, Missouri   1536.737001  1758.619061  1170.125009        2   \n",
       "Crittenden, Arkansas       1415.740393  1637.620920  1049.125109        2   \n",
       "Baltimore City, Maryland   1100.647585  1322.518497   734.050805        2   \n",
       "Alexander, Illinois        1077.957101  1299.842185   711.371879        2   \n",
       "Greenwood, South Carolina  1002.651686  1224.524321   636.055287        2   \n",
       "\n",
       "                                 score  \n",
       "County                                  \n",
       "St. Louis City, Missouri   1170.125009  \n",
       "Crittenden, Arkansas       1049.125109  \n",
       "Baltimore City, Maryland    734.050805  \n",
       "Alexander, Illinois         711.371879  \n",
       "Greenwood, South Carolina   636.055287  "
      ]
     },
     "execution_count": 352,
     "metadata": {},
     "output_type": "execute_result"
    }
   ],
   "source": [
    "res.sort_values(\"score\",ascending=False)[:5]"
   ]
  },
  {
   "cell_type": "markdown",
   "metadata": {},
   "source": [
    "### (b) Cluster with Gaussian Mixture. Please repeat (2)a but use log-likelihood for each record (rather than distance) as the measure of anomalousness. (10 pts)"
   ]
  },
  {
   "cell_type": "code",
   "execution_count": 353,
   "metadata": {},
   "outputs": [
    {
     "data": {
      "text/plain": [
       "GaussianMixture(covariance_type='full', init_params='kmeans', max_iter=100,\n",
       "        means_init=None, n_components=3, n_init=1, precisions_init=None,\n",
       "        random_state=999, reg_covar=1e-06, tol=0.001, verbose=0,\n",
       "        verbose_interval=10, warm_start=False, weights_init=None)"
      ]
     },
     "execution_count": 353,
     "metadata": {},
     "output_type": "execute_result"
    }
   ],
   "source": [
    "GM=GaussianMixture(n_components=3,random_state=999)\n",
    "GM.fit(data3)"
   ]
  },
  {
   "cell_type": "code",
   "execution_count": 354,
   "metadata": {},
   "outputs": [],
   "source": [
    "GM_log = pd.DataFrame(GM.score_samples(data3))"
   ]
  },
  {
   "cell_type": "code",
   "execution_count": 355,
   "metadata": {},
   "outputs": [
    {
     "data": {
      "text/html": [
       "<div>\n",
       "<style scoped>\n",
       "    .dataframe tbody tr th:only-of-type {\n",
       "        vertical-align: middle;\n",
       "    }\n",
       "\n",
       "    .dataframe tbody tr th {\n",
       "        vertical-align: top;\n",
       "    }\n",
       "\n",
       "    .dataframe thead th {\n",
       "        text-align: right;\n",
       "    }\n",
       "</style>\n",
       "<table border=\"1\" class=\"dataframe\">\n",
       "  <thead>\n",
       "    <tr style=\"text-align: right;\">\n",
       "      <th></th>\n",
       "      <th>0</th>\n",
       "    </tr>\n",
       "  </thead>\n",
       "  <tbody>\n",
       "    <tr>\n",
       "      <th>0</th>\n",
       "      <td>-15.343505</td>\n",
       "    </tr>\n",
       "    <tr>\n",
       "      <th>1</th>\n",
       "      <td>-15.965211</td>\n",
       "    </tr>\n",
       "    <tr>\n",
       "      <th>2</th>\n",
       "      <td>-20.515938</td>\n",
       "    </tr>\n",
       "    <tr>\n",
       "      <th>3</th>\n",
       "      <td>-18.206816</td>\n",
       "    </tr>\n",
       "    <tr>\n",
       "      <th>4</th>\n",
       "      <td>-14.569364</td>\n",
       "    </tr>\n",
       "  </tbody>\n",
       "</table>\n",
       "</div>"
      ],
      "text/plain": [
       "           0\n",
       "0 -15.343505\n",
       "1 -15.965211\n",
       "2 -20.515938\n",
       "3 -18.206816\n",
       "4 -14.569364"
      ]
     },
     "execution_count": 355,
     "metadata": {},
     "output_type": "execute_result"
    }
   ],
   "source": [
    "GM_log.head()"
   ]
  },
  {
   "cell_type": "code",
   "execution_count": 356,
   "metadata": {},
   "outputs": [],
   "source": [
    "GM_log.set_index(data3.index, inplace=True)"
   ]
  },
  {
   "cell_type": "code",
   "execution_count": 357,
   "metadata": {},
   "outputs": [
    {
     "data": {
      "text/html": [
       "<div>\n",
       "<style scoped>\n",
       "    .dataframe tbody tr th:only-of-type {\n",
       "        vertical-align: middle;\n",
       "    }\n",
       "\n",
       "    .dataframe tbody tr th {\n",
       "        vertical-align: top;\n",
       "    }\n",
       "\n",
       "    .dataframe thead th {\n",
       "        text-align: right;\n",
       "    }\n",
       "</style>\n",
       "<table border=\"1\" class=\"dataframe\">\n",
       "  <thead>\n",
       "    <tr style=\"text-align: right;\">\n",
       "      <th></th>\n",
       "      <th>0</th>\n",
       "    </tr>\n",
       "    <tr>\n",
       "      <th>County</th>\n",
       "      <th></th>\n",
       "    </tr>\n",
       "  </thead>\n",
       "  <tbody>\n",
       "    <tr>\n",
       "      <th>Autauga, Alabama</th>\n",
       "      <td>-15.343505</td>\n",
       "    </tr>\n",
       "    <tr>\n",
       "      <th>Baldwin, Alabama</th>\n",
       "      <td>-15.965211</td>\n",
       "    </tr>\n",
       "    <tr>\n",
       "      <th>Barbour, Alabama</th>\n",
       "      <td>-20.515938</td>\n",
       "    </tr>\n",
       "    <tr>\n",
       "      <th>Bibb, Alabama</th>\n",
       "      <td>-18.206816</td>\n",
       "    </tr>\n",
       "    <tr>\n",
       "      <th>Blount, Alabama</th>\n",
       "      <td>-14.569364</td>\n",
       "    </tr>\n",
       "  </tbody>\n",
       "</table>\n",
       "</div>"
      ],
      "text/plain": [
       "                          0\n",
       "County                     \n",
       "Autauga, Alabama -15.343505\n",
       "Baldwin, Alabama -15.965211\n",
       "Barbour, Alabama -20.515938\n",
       "Bibb, Alabama    -18.206816\n",
       "Blount, Alabama  -14.569364"
      ]
     },
     "execution_count": 357,
     "metadata": {},
     "output_type": "execute_result"
    }
   ],
   "source": [
    "GM_log.head()"
   ]
  },
  {
   "cell_type": "code",
   "execution_count": 358,
   "metadata": {},
   "outputs": [
    {
     "data": {
      "text/html": [
       "<div>\n",
       "<style scoped>\n",
       "    .dataframe tbody tr th:only-of-type {\n",
       "        vertical-align: middle;\n",
       "    }\n",
       "\n",
       "    .dataframe tbody tr th {\n",
       "        vertical-align: top;\n",
       "    }\n",
       "\n",
       "    .dataframe thead th {\n",
       "        text-align: right;\n",
       "    }\n",
       "</style>\n",
       "<table border=\"1\" class=\"dataframe\">\n",
       "  <thead>\n",
       "    <tr style=\"text-align: right;\">\n",
       "      <th></th>\n",
       "      <th>0</th>\n",
       "    </tr>\n",
       "    <tr>\n",
       "      <th>County</th>\n",
       "      <th></th>\n",
       "    </tr>\n",
       "  </thead>\n",
       "  <tbody>\n",
       "    <tr>\n",
       "      <th>St. Louis City, Missouri</th>\n",
       "      <td>-31.651780</td>\n",
       "    </tr>\n",
       "    <tr>\n",
       "      <th>Roulette, North Dakota</th>\n",
       "      <td>-31.456629</td>\n",
       "    </tr>\n",
       "    <tr>\n",
       "      <th>Sioux, North Dakota</th>\n",
       "      <td>-31.279179</td>\n",
       "    </tr>\n",
       "    <tr>\n",
       "      <th>New York, New York</th>\n",
       "      <td>-31.084746</td>\n",
       "    </tr>\n",
       "    <tr>\n",
       "      <th>Shannon, South Dakota</th>\n",
       "      <td>-28.157407</td>\n",
       "    </tr>\n",
       "  </tbody>\n",
       "</table>\n",
       "</div>"
      ],
      "text/plain": [
       "                                  0\n",
       "County                             \n",
       "St. Louis City, Missouri -31.651780\n",
       "Roulette, North Dakota   -31.456629\n",
       "Sioux, North Dakota      -31.279179\n",
       "New York, New York       -31.084746\n",
       "Shannon, South Dakota    -28.157407"
      ]
     },
     "execution_count": 358,
     "metadata": {},
     "output_type": "execute_result"
    }
   ],
   "source": [
    "GM_log.sort_values(0)[:5]"
   ]
  },
  {
   "cell_type": "markdown",
   "metadata": {},
   "source": [
    "### Part 3: Choose one more anomaly detection model you prefer and report the top 5 most anomalous counties by the model you chose. (10 pts)"
   ]
  },
  {
   "cell_type": "code",
   "execution_count": 359,
   "metadata": {},
   "outputs": [
    {
     "name": "stderr",
     "output_type": "stream",
     "text": [
      "/nfshome/jl9760/.conda/envs/myEnv/lib/python3.5/site-packages/sklearn/neighbors/lof.py:236: FutureWarning: default contamination parameter 0.1 will change in version 0.22 to \"auto\". This will change the predict method behavior.\n",
      "  FutureWarning)\n"
     ]
    },
    {
     "data": {
      "text/plain": [
       "LocalOutlierFactor(algorithm='auto', contamination='legacy', leaf_size=30,\n",
       "          metric='minkowski', metric_params=None, n_jobs=None,\n",
       "          n_neighbors=20, novelty=False, p=2)"
      ]
     },
     "execution_count": 359,
     "metadata": {},
     "output_type": "execute_result"
    }
   ],
   "source": [
    "# LOF\n",
    "# Local outlier factor (LOF).\n",
    "clf = LocalOutlierFactor(n_neighbors=20)\n",
    "clf.fit(data3)"
   ]
  },
  {
   "cell_type": "code",
   "execution_count": 360,
   "metadata": {},
   "outputs": [],
   "source": [
    "LOF_anomaly = pd.DataFrame(clf._decision_function(data3))"
   ]
  },
  {
   "cell_type": "code",
   "execution_count": 361,
   "metadata": {},
   "outputs": [
    {
     "data": {
      "text/html": [
       "<div>\n",
       "<style scoped>\n",
       "    .dataframe tbody tr th:only-of-type {\n",
       "        vertical-align: middle;\n",
       "    }\n",
       "\n",
       "    .dataframe tbody tr th {\n",
       "        vertical-align: top;\n",
       "    }\n",
       "\n",
       "    .dataframe thead th {\n",
       "        text-align: right;\n",
       "    }\n",
       "</style>\n",
       "<table border=\"1\" class=\"dataframe\">\n",
       "  <thead>\n",
       "    <tr style=\"text-align: right;\">\n",
       "      <th></th>\n",
       "      <th>0</th>\n",
       "    </tr>\n",
       "  </thead>\n",
       "  <tbody>\n",
       "    <tr>\n",
       "      <th>0</th>\n",
       "      <td>0.193725</td>\n",
       "    </tr>\n",
       "    <tr>\n",
       "      <th>1</th>\n",
       "      <td>0.171721</td>\n",
       "    </tr>\n",
       "    <tr>\n",
       "      <th>2</th>\n",
       "      <td>-0.122160</td>\n",
       "    </tr>\n",
       "    <tr>\n",
       "      <th>3</th>\n",
       "      <td>0.141897</td>\n",
       "    </tr>\n",
       "    <tr>\n",
       "      <th>4</th>\n",
       "      <td>0.214124</td>\n",
       "    </tr>\n",
       "  </tbody>\n",
       "</table>\n",
       "</div>"
      ],
      "text/plain": [
       "          0\n",
       "0  0.193725\n",
       "1  0.171721\n",
       "2 -0.122160\n",
       "3  0.141897\n",
       "4  0.214124"
      ]
     },
     "execution_count": 361,
     "metadata": {},
     "output_type": "execute_result"
    }
   ],
   "source": [
    "LOF_anomaly.head()"
   ]
  },
  {
   "cell_type": "code",
   "execution_count": 362,
   "metadata": {},
   "outputs": [],
   "source": [
    "LOF_anomaly.set_index(data3.index, inplace=True)"
   ]
  },
  {
   "cell_type": "code",
   "execution_count": 363,
   "metadata": {},
   "outputs": [
    {
     "data": {
      "text/html": [
       "<div>\n",
       "<style scoped>\n",
       "    .dataframe tbody tr th:only-of-type {\n",
       "        vertical-align: middle;\n",
       "    }\n",
       "\n",
       "    .dataframe tbody tr th {\n",
       "        vertical-align: top;\n",
       "    }\n",
       "\n",
       "    .dataframe thead th {\n",
       "        text-align: right;\n",
       "    }\n",
       "</style>\n",
       "<table border=\"1\" class=\"dataframe\">\n",
       "  <thead>\n",
       "    <tr style=\"text-align: right;\">\n",
       "      <th></th>\n",
       "      <th>0</th>\n",
       "    </tr>\n",
       "    <tr>\n",
       "      <th>County</th>\n",
       "      <th></th>\n",
       "    </tr>\n",
       "  </thead>\n",
       "  <tbody>\n",
       "    <tr>\n",
       "      <th>St. Louis City, Missouri</th>\n",
       "      <td>-1.589724</td>\n",
       "    </tr>\n",
       "    <tr>\n",
       "      <th>Crittenden, Arkansas</th>\n",
       "      <td>-1.200237</td>\n",
       "    </tr>\n",
       "    <tr>\n",
       "      <th>Shannon, South Dakota</th>\n",
       "      <td>-0.832285</td>\n",
       "    </tr>\n",
       "    <tr>\n",
       "      <th>Clay, Georgia</th>\n",
       "      <td>-0.685727</td>\n",
       "    </tr>\n",
       "    <tr>\n",
       "      <th>Sioux, North Dakota</th>\n",
       "      <td>-0.667190</td>\n",
       "    </tr>\n",
       "  </tbody>\n",
       "</table>\n",
       "</div>"
      ],
      "text/plain": [
       "                                 0\n",
       "County                            \n",
       "St. Louis City, Missouri -1.589724\n",
       "Crittenden, Arkansas     -1.200237\n",
       "Shannon, South Dakota    -0.832285\n",
       "Clay, Georgia            -0.685727\n",
       "Sioux, North Dakota      -0.667190"
      ]
     },
     "execution_count": 363,
     "metadata": {},
     "output_type": "execute_result"
    }
   ],
   "source": [
    "LOF_anomaly.sort_values(0)[:5]"
   ]
  },
  {
   "cell_type": "markdown",
   "metadata": {},
   "source": [
    "### Part 4: Compare and contrast the results from the different models. Were there some counties that were found to be anomalous in some models and not in others? Please provide some intuitions on why each county was found to be anomalous. (5 pts)"
   ]
  },
  {
   "cell_type": "code",
   "execution_count": 364,
   "metadata": {},
   "outputs": [],
   "source": [
    "bayesion = exmp.sort_values()[:5]\n",
    "kmean = res.sort_values(\"score\",ascending=False)[:5]\n",
    "gm = GM_log.sort_values(0)[:5]\n",
    "lof = LOF_anomaly.sort_values(0)[:5]"
   ]
  },
  {
   "cell_type": "code",
   "execution_count": 365,
   "metadata": {},
   "outputs": [],
   "source": [
    "bayesion = pd.DataFrame(bayesion)"
   ]
  },
  {
   "cell_type": "code",
   "execution_count": 366,
   "metadata": {},
   "outputs": [],
   "source": [
    "kmean = pd.DataFrame(kmean.score)"
   ]
  },
  {
   "cell_type": "code",
   "execution_count": 367,
   "metadata": {},
   "outputs": [],
   "source": [
    "kmean.columns = ['0']"
   ]
  },
  {
   "cell_type": "code",
   "execution_count": 368,
   "metadata": {},
   "outputs": [
    {
     "data": {
      "text/html": [
       "<div>\n",
       "<style scoped>\n",
       "    .dataframe tbody tr th:only-of-type {\n",
       "        vertical-align: middle;\n",
       "    }\n",
       "\n",
       "    .dataframe tbody tr th {\n",
       "        vertical-align: top;\n",
       "    }\n",
       "\n",
       "    .dataframe thead th {\n",
       "        text-align: right;\n",
       "    }\n",
       "</style>\n",
       "<table border=\"1\" class=\"dataframe\">\n",
       "  <thead>\n",
       "    <tr style=\"text-align: right;\">\n",
       "      <th></th>\n",
       "      <th>0</th>\n",
       "    </tr>\n",
       "    <tr>\n",
       "      <th>County</th>\n",
       "      <th></th>\n",
       "    </tr>\n",
       "  </thead>\n",
       "  <tbody>\n",
       "    <tr>\n",
       "      <th>St. Louis City, Missouri</th>\n",
       "      <td>1170.125009</td>\n",
       "    </tr>\n",
       "    <tr>\n",
       "      <th>Crittenden, Arkansas</th>\n",
       "      <td>1049.125109</td>\n",
       "    </tr>\n",
       "    <tr>\n",
       "      <th>Baltimore City, Maryland</th>\n",
       "      <td>734.050805</td>\n",
       "    </tr>\n",
       "    <tr>\n",
       "      <th>Alexander, Illinois</th>\n",
       "      <td>711.371879</td>\n",
       "    </tr>\n",
       "    <tr>\n",
       "      <th>Greenwood, South Carolina</th>\n",
       "      <td>636.055287</td>\n",
       "    </tr>\n",
       "  </tbody>\n",
       "</table>\n",
       "</div>"
      ],
      "text/plain": [
       "                                     0\n",
       "County                                \n",
       "St. Louis City, Missouri   1170.125009\n",
       "Crittenden, Arkansas       1049.125109\n",
       "Baltimore City, Maryland    734.050805\n",
       "Alexander, Illinois         711.371879\n",
       "Greenwood, South Carolina   636.055287"
      ]
     },
     "execution_count": 368,
     "metadata": {},
     "output_type": "execute_result"
    }
   ],
   "source": [
    "kmean.head()"
   ]
  },
  {
   "cell_type": "code",
   "execution_count": 371,
   "metadata": {},
   "outputs": [],
   "source": [
    "table = kmean.join(gm, how='outer', lsuffix=' ').join(lof, how='outer', lsuffix=' ')"
   ]
  },
  {
   "cell_type": "code",
   "execution_count": 372,
   "metadata": {},
   "outputs": [
    {
     "data": {
      "text/html": [
       "<div>\n",
       "<style scoped>\n",
       "    .dataframe tbody tr th:only-of-type {\n",
       "        vertical-align: middle;\n",
       "    }\n",
       "\n",
       "    .dataframe tbody tr th {\n",
       "        vertical-align: top;\n",
       "    }\n",
       "\n",
       "    .dataframe thead th {\n",
       "        text-align: right;\n",
       "    }\n",
       "</style>\n",
       "<table border=\"1\" class=\"dataframe\">\n",
       "  <thead>\n",
       "    <tr style=\"text-align: right;\">\n",
       "      <th></th>\n",
       "      <th>0</th>\n",
       "      <th>0</th>\n",
       "      <th>0</th>\n",
       "    </tr>\n",
       "    <tr>\n",
       "      <th>County</th>\n",
       "      <th></th>\n",
       "      <th></th>\n",
       "      <th></th>\n",
       "    </tr>\n",
       "  </thead>\n",
       "  <tbody>\n",
       "    <tr>\n",
       "      <th>Alexander, Illinois</th>\n",
       "      <td>711.371879</td>\n",
       "      <td>NaN</td>\n",
       "      <td>NaN</td>\n",
       "    </tr>\n",
       "    <tr>\n",
       "      <th>Baltimore City, Maryland</th>\n",
       "      <td>734.050805</td>\n",
       "      <td>NaN</td>\n",
       "      <td>NaN</td>\n",
       "    </tr>\n",
       "    <tr>\n",
       "      <th>Clay, Georgia</th>\n",
       "      <td>NaN</td>\n",
       "      <td>NaN</td>\n",
       "      <td>-0.685727</td>\n",
       "    </tr>\n",
       "    <tr>\n",
       "      <th>Crittenden, Arkansas</th>\n",
       "      <td>1049.125109</td>\n",
       "      <td>NaN</td>\n",
       "      <td>-1.200237</td>\n",
       "    </tr>\n",
       "    <tr>\n",
       "      <th>Greenwood, South Carolina</th>\n",
       "      <td>636.055287</td>\n",
       "      <td>NaN</td>\n",
       "      <td>NaN</td>\n",
       "    </tr>\n",
       "    <tr>\n",
       "      <th>New York, New York</th>\n",
       "      <td>NaN</td>\n",
       "      <td>-31.084746</td>\n",
       "      <td>NaN</td>\n",
       "    </tr>\n",
       "    <tr>\n",
       "      <th>Roulette, North Dakota</th>\n",
       "      <td>NaN</td>\n",
       "      <td>-31.456629</td>\n",
       "      <td>NaN</td>\n",
       "    </tr>\n",
       "    <tr>\n",
       "      <th>Shannon, South Dakota</th>\n",
       "      <td>NaN</td>\n",
       "      <td>-28.157407</td>\n",
       "      <td>-0.832285</td>\n",
       "    </tr>\n",
       "    <tr>\n",
       "      <th>Sioux, North Dakota</th>\n",
       "      <td>NaN</td>\n",
       "      <td>-31.279179</td>\n",
       "      <td>-0.667190</td>\n",
       "    </tr>\n",
       "    <tr>\n",
       "      <th>St. Louis City, Missouri</th>\n",
       "      <td>1170.125009</td>\n",
       "      <td>-31.651780</td>\n",
       "      <td>-1.589724</td>\n",
       "    </tr>\n",
       "  </tbody>\n",
       "</table>\n",
       "</div>"
      ],
      "text/plain": [
       "                                     0         0          0\n",
       "County                                                     \n",
       "Alexander, Illinois         711.371879        NaN       NaN\n",
       "Baltimore City, Maryland    734.050805        NaN       NaN\n",
       "Clay, Georgia                      NaN        NaN -0.685727\n",
       "Crittenden, Arkansas       1049.125109        NaN -1.200237\n",
       "Greenwood, South Carolina   636.055287        NaN       NaN\n",
       "New York, New York                 NaN -31.084746       NaN\n",
       "Roulette, North Dakota             NaN -31.456629       NaN\n",
       "Shannon, South Dakota              NaN -28.157407 -0.832285\n",
       "Sioux, North Dakota                NaN -31.279179 -0.667190\n",
       "St. Louis City, Missouri   1170.125009 -31.651780 -1.589724"
      ]
     },
     "execution_count": 372,
     "metadata": {},
     "output_type": "execute_result"
    }
   ],
   "source": [
    "table"
   ]
  },
  {
   "cell_type": "markdown",
   "metadata": {},
   "source": [
    "### There are some counties that were found to be anomalous in some models and not in others. (Crittenden, Arkansas), (Shannon, South Dakota), (Sioux, North Dakota), (St. Louis City, Missouri\t) appeared more than once. I am not really familiar with these cities but I think the reason might be they all have high population density or have high population density areas."
   ]
  },
  {
   "cell_type": "code",
   "execution_count": null,
   "metadata": {},
   "outputs": [],
   "source": []
  }
 ],
 "metadata": {
  "anaconda-cloud": {},
  "kernelspec": {
   "display_name": "myEnv",
   "language": "python",
   "name": "myenv"
  },
  "language_info": {
   "codemirror_mode": {
    "name": "ipython",
    "version": 3
   },
   "file_extension": ".py",
   "mimetype": "text/x-python",
   "name": "python",
   "nbconvert_exporter": "python",
   "pygments_lexer": "ipython3",
   "version": "3.5.6"
  }
 },
 "nbformat": 4,
 "nbformat_minor": 1
}
